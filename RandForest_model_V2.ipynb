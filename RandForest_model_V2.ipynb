{
 "cells": [
  {
   "cell_type": "code",
   "execution_count": 1,
   "metadata": {},
   "outputs": [
    {
     "name": "stdout",
     "output_type": "stream",
     "text": [
      "Requirement already up-to-date: sklearn in c:\\python38\\lib\\site-packages (0.0)\n",
      "Requirement already satisfied, skipping upgrade: scikit-learn in c:\\python38\\lib\\site-packages (from sklearn) (0.23.2)\n",
      "Requirement already satisfied, skipping upgrade: numpy>=1.13.3 in c:\\python38\\lib\\site-packages (from scikit-learn->sklearn) (1.18.5)\n",
      "Requirement already satisfied, skipping upgrade: joblib>=0.11 in c:\\python38\\lib\\site-packages (from scikit-learn->sklearn) (0.16.0)\n",
      "Requirement already satisfied, skipping upgrade: threadpoolctl>=2.0.0 in c:\\python38\\lib\\site-packages (from scikit-learn->sklearn) (2.1.0)\n",
      "Requirement already satisfied, skipping upgrade: scipy>=0.19.1 in c:\\python38\\lib\\site-packages (from scikit-learn->sklearn) (1.5.2)\n"
     ]
    },
    {
     "name": "stderr",
     "output_type": "stream",
     "text": [
      "WARNING: You are using pip version 19.2.3, however version 20.2.2 is available.\n",
      "You should consider upgrading via the 'python -m pip install --upgrade pip' command.\n"
     ]
    }
   ],
   "source": [
    "# Update sklearn to prevent version mismatches\n",
    "!pip install sklearn --upgrade"
   ]
  },
  {
   "cell_type": "code",
   "execution_count": 2,
   "metadata": {},
   "outputs": [
    {
     "name": "stdout",
     "output_type": "stream",
     "text": [
      "Requirement already satisfied: joblib in c:\\python38\\lib\\site-packages (0.16.0)\n"
     ]
    },
    {
     "name": "stderr",
     "output_type": "stream",
     "text": [
      "WARNING: You are using pip version 19.2.3, however version 20.2.2 is available.\n",
      "You should consider upgrading via the 'python -m pip install --upgrade pip' command.\n"
     ]
    }
   ],
   "source": [
    "# install joblib. This will be used to save your model. \n",
    "# Restart your kernel after installing \n",
    "!pip install joblib"
   ]
  },
  {
   "cell_type": "code",
   "execution_count": 3,
   "metadata": {},
   "outputs": [],
   "source": [
    "import pandas as pd\n",
    "\n",
    "from sklearn.model_selection import train_test_split\n",
    "from sklearn.preprocessing import LabelEncoder, MinMaxScaler\n",
    "from tensorflow.keras.utils import to_categorical"
   ]
  },
  {
   "cell_type": "markdown",
   "metadata": {},
   "source": [
    "# Read the CSV and Perform Basic Data Cleaning"
   ]
  },
  {
   "cell_type": "code",
   "execution_count": 4,
   "metadata": {},
   "outputs": [
    {
     "data": {
      "text/html": [
       "<div>\n",
       "<style scoped>\n",
       "    .dataframe tbody tr th:only-of-type {\n",
       "        vertical-align: middle;\n",
       "    }\n",
       "\n",
       "    .dataframe tbody tr th {\n",
       "        vertical-align: top;\n",
       "    }\n",
       "\n",
       "    .dataframe thead th {\n",
       "        text-align: right;\n",
       "    }\n",
       "</style>\n",
       "<table border=\"1\" class=\"dataframe\">\n",
       "  <thead>\n",
       "    <tr style=\"text-align: right;\">\n",
       "      <th></th>\n",
       "      <th>koi_disposition</th>\n",
       "      <th>koi_fpflag_nt</th>\n",
       "      <th>koi_fpflag_ss</th>\n",
       "      <th>koi_fpflag_co</th>\n",
       "      <th>koi_fpflag_ec</th>\n",
       "      <th>koi_period</th>\n",
       "      <th>koi_period_err1</th>\n",
       "      <th>koi_period_err2</th>\n",
       "      <th>koi_time0bk</th>\n",
       "      <th>koi_time0bk_err1</th>\n",
       "      <th>...</th>\n",
       "      <th>koi_steff_err2</th>\n",
       "      <th>koi_slogg</th>\n",
       "      <th>koi_slogg_err1</th>\n",
       "      <th>koi_slogg_err2</th>\n",
       "      <th>koi_srad</th>\n",
       "      <th>koi_srad_err1</th>\n",
       "      <th>koi_srad_err2</th>\n",
       "      <th>ra</th>\n",
       "      <th>dec</th>\n",
       "      <th>koi_kepmag</th>\n",
       "    </tr>\n",
       "  </thead>\n",
       "  <tbody>\n",
       "    <tr>\n",
       "      <th>0</th>\n",
       "      <td>CONFIRMED</td>\n",
       "      <td>0</td>\n",
       "      <td>0</td>\n",
       "      <td>0</td>\n",
       "      <td>0</td>\n",
       "      <td>54.418383</td>\n",
       "      <td>2.479000e-04</td>\n",
       "      <td>-2.479000e-04</td>\n",
       "      <td>162.513840</td>\n",
       "      <td>0.003520</td>\n",
       "      <td>...</td>\n",
       "      <td>-81</td>\n",
       "      <td>4.467</td>\n",
       "      <td>0.064</td>\n",
       "      <td>-0.096</td>\n",
       "      <td>0.927</td>\n",
       "      <td>0.105</td>\n",
       "      <td>-0.061</td>\n",
       "      <td>291.93423</td>\n",
       "      <td>48.141651</td>\n",
       "      <td>15.347</td>\n",
       "    </tr>\n",
       "    <tr>\n",
       "      <th>1</th>\n",
       "      <td>FALSE POSITIVE</td>\n",
       "      <td>0</td>\n",
       "      <td>1</td>\n",
       "      <td>0</td>\n",
       "      <td>0</td>\n",
       "      <td>19.899140</td>\n",
       "      <td>1.490000e-05</td>\n",
       "      <td>-1.490000e-05</td>\n",
       "      <td>175.850252</td>\n",
       "      <td>0.000581</td>\n",
       "      <td>...</td>\n",
       "      <td>-176</td>\n",
       "      <td>4.544</td>\n",
       "      <td>0.044</td>\n",
       "      <td>-0.176</td>\n",
       "      <td>0.868</td>\n",
       "      <td>0.233</td>\n",
       "      <td>-0.078</td>\n",
       "      <td>297.00482</td>\n",
       "      <td>48.134129</td>\n",
       "      <td>15.436</td>\n",
       "    </tr>\n",
       "    <tr>\n",
       "      <th>2</th>\n",
       "      <td>FALSE POSITIVE</td>\n",
       "      <td>0</td>\n",
       "      <td>1</td>\n",
       "      <td>0</td>\n",
       "      <td>0</td>\n",
       "      <td>1.736952</td>\n",
       "      <td>2.630000e-07</td>\n",
       "      <td>-2.630000e-07</td>\n",
       "      <td>170.307565</td>\n",
       "      <td>0.000115</td>\n",
       "      <td>...</td>\n",
       "      <td>-174</td>\n",
       "      <td>4.564</td>\n",
       "      <td>0.053</td>\n",
       "      <td>-0.168</td>\n",
       "      <td>0.791</td>\n",
       "      <td>0.201</td>\n",
       "      <td>-0.067</td>\n",
       "      <td>285.53461</td>\n",
       "      <td>48.285210</td>\n",
       "      <td>15.597</td>\n",
       "    </tr>\n",
       "    <tr>\n",
       "      <th>3</th>\n",
       "      <td>CONFIRMED</td>\n",
       "      <td>0</td>\n",
       "      <td>0</td>\n",
       "      <td>0</td>\n",
       "      <td>0</td>\n",
       "      <td>2.525592</td>\n",
       "      <td>3.760000e-06</td>\n",
       "      <td>-3.760000e-06</td>\n",
       "      <td>171.595550</td>\n",
       "      <td>0.001130</td>\n",
       "      <td>...</td>\n",
       "      <td>-211</td>\n",
       "      <td>4.438</td>\n",
       "      <td>0.070</td>\n",
       "      <td>-0.210</td>\n",
       "      <td>1.046</td>\n",
       "      <td>0.334</td>\n",
       "      <td>-0.133</td>\n",
       "      <td>288.75488</td>\n",
       "      <td>48.226200</td>\n",
       "      <td>15.509</td>\n",
       "    </tr>\n",
       "    <tr>\n",
       "      <th>4</th>\n",
       "      <td>CONFIRMED</td>\n",
       "      <td>0</td>\n",
       "      <td>0</td>\n",
       "      <td>0</td>\n",
       "      <td>0</td>\n",
       "      <td>4.134435</td>\n",
       "      <td>1.050000e-05</td>\n",
       "      <td>-1.050000e-05</td>\n",
       "      <td>172.979370</td>\n",
       "      <td>0.001900</td>\n",
       "      <td>...</td>\n",
       "      <td>-232</td>\n",
       "      <td>4.486</td>\n",
       "      <td>0.054</td>\n",
       "      <td>-0.229</td>\n",
       "      <td>0.972</td>\n",
       "      <td>0.315</td>\n",
       "      <td>-0.105</td>\n",
       "      <td>296.28613</td>\n",
       "      <td>48.224670</td>\n",
       "      <td>15.714</td>\n",
       "    </tr>\n",
       "  </tbody>\n",
       "</table>\n",
       "<p>5 rows × 41 columns</p>\n",
       "</div>"
      ],
      "text/plain": [
       "  koi_disposition  koi_fpflag_nt  koi_fpflag_ss  koi_fpflag_co  koi_fpflag_ec  \\\n",
       "0       CONFIRMED              0              0              0              0   \n",
       "1  FALSE POSITIVE              0              1              0              0   \n",
       "2  FALSE POSITIVE              0              1              0              0   \n",
       "3       CONFIRMED              0              0              0              0   \n",
       "4       CONFIRMED              0              0              0              0   \n",
       "\n",
       "   koi_period  koi_period_err1  koi_period_err2  koi_time0bk  \\\n",
       "0   54.418383     2.479000e-04    -2.479000e-04   162.513840   \n",
       "1   19.899140     1.490000e-05    -1.490000e-05   175.850252   \n",
       "2    1.736952     2.630000e-07    -2.630000e-07   170.307565   \n",
       "3    2.525592     3.760000e-06    -3.760000e-06   171.595550   \n",
       "4    4.134435     1.050000e-05    -1.050000e-05   172.979370   \n",
       "\n",
       "   koi_time0bk_err1  ...  koi_steff_err2  koi_slogg  koi_slogg_err1  \\\n",
       "0          0.003520  ...             -81      4.467           0.064   \n",
       "1          0.000581  ...            -176      4.544           0.044   \n",
       "2          0.000115  ...            -174      4.564           0.053   \n",
       "3          0.001130  ...            -211      4.438           0.070   \n",
       "4          0.001900  ...            -232      4.486           0.054   \n",
       "\n",
       "   koi_slogg_err2  koi_srad  koi_srad_err1  koi_srad_err2         ra  \\\n",
       "0          -0.096     0.927          0.105         -0.061  291.93423   \n",
       "1          -0.176     0.868          0.233         -0.078  297.00482   \n",
       "2          -0.168     0.791          0.201         -0.067  285.53461   \n",
       "3          -0.210     1.046          0.334         -0.133  288.75488   \n",
       "4          -0.229     0.972          0.315         -0.105  296.28613   \n",
       "\n",
       "         dec  koi_kepmag  \n",
       "0  48.141651      15.347  \n",
       "1  48.134129      15.436  \n",
       "2  48.285210      15.597  \n",
       "3  48.226200      15.509  \n",
       "4  48.224670      15.714  \n",
       "\n",
       "[5 rows x 41 columns]"
      ]
     },
     "execution_count": 4,
     "metadata": {},
     "output_type": "execute_result"
    }
   ],
   "source": [
    "df = pd.read_csv(\"./Source_Data/exoplanet_data.csv\")\n",
    "# Drop the null columns where all values are null\n",
    "df = df.dropna(axis='columns', how='all')\n",
    "# Drop the null rows\n",
    "df = df.dropna()\n",
    "df.head()"
   ]
  },
  {
   "cell_type": "code",
   "execution_count": 5,
   "metadata": {},
   "outputs": [],
   "source": [
    "# Set features. This will also be used as your x values.\n",
    "\n",
    "X = df.drop('koi_disposition', axis=1)\n",
    "\n",
    "# Often this is called \"X\" instead\n",
    "selected_features = X.copy()"
   ]
  },
  {
   "cell_type": "markdown",
   "metadata": {},
   "source": [
    "# Create a Train Test Split\n",
    "\n",
    "Use `koi_disposition` for the y values"
   ]
  },
  {
   "cell_type": "code",
   "execution_count": 6,
   "metadata": {},
   "outputs": [],
   "source": [
    "y = df['koi_disposition']\n",
    "y = y.values.reshape(-1,1)\n",
    "target_names = [\"CANDIDATE\", \"CONFIRMED\", \"FALSE POSITIVE\"]"
   ]
  },
  {
   "cell_type": "code",
   "execution_count": 7,
   "metadata": {},
   "outputs": [],
   "source": [
    "X_train, X_test, y_train, y_test = train_test_split(\n",
    "    selected_features, y, random_state=1)"
   ]
  },
  {
   "cell_type": "code",
   "execution_count": 8,
   "metadata": {},
   "outputs": [
    {
     "data": {
      "text/html": [
       "<div>\n",
       "<style scoped>\n",
       "    .dataframe tbody tr th:only-of-type {\n",
       "        vertical-align: middle;\n",
       "    }\n",
       "\n",
       "    .dataframe tbody tr th {\n",
       "        vertical-align: top;\n",
       "    }\n",
       "\n",
       "    .dataframe thead th {\n",
       "        text-align: right;\n",
       "    }\n",
       "</style>\n",
       "<table border=\"1\" class=\"dataframe\">\n",
       "  <thead>\n",
       "    <tr style=\"text-align: right;\">\n",
       "      <th></th>\n",
       "      <th>koi_fpflag_nt</th>\n",
       "      <th>koi_fpflag_ss</th>\n",
       "      <th>koi_fpflag_co</th>\n",
       "      <th>koi_fpflag_ec</th>\n",
       "      <th>koi_period</th>\n",
       "      <th>koi_period_err1</th>\n",
       "      <th>koi_period_err2</th>\n",
       "      <th>koi_time0bk</th>\n",
       "      <th>koi_time0bk_err1</th>\n",
       "      <th>koi_time0bk_err2</th>\n",
       "      <th>...</th>\n",
       "      <th>koi_steff_err2</th>\n",
       "      <th>koi_slogg</th>\n",
       "      <th>koi_slogg_err1</th>\n",
       "      <th>koi_slogg_err2</th>\n",
       "      <th>koi_srad</th>\n",
       "      <th>koi_srad_err1</th>\n",
       "      <th>koi_srad_err2</th>\n",
       "      <th>ra</th>\n",
       "      <th>dec</th>\n",
       "      <th>koi_kepmag</th>\n",
       "    </tr>\n",
       "  </thead>\n",
       "  <tbody>\n",
       "    <tr>\n",
       "      <th>3563</th>\n",
       "      <td>0</td>\n",
       "      <td>0</td>\n",
       "      <td>0</td>\n",
       "      <td>0</td>\n",
       "      <td>10.548413</td>\n",
       "      <td>5.470000e-05</td>\n",
       "      <td>-5.470000e-05</td>\n",
       "      <td>139.064020</td>\n",
       "      <td>0.004110</td>\n",
       "      <td>-0.004110</td>\n",
       "      <td>...</td>\n",
       "      <td>-133</td>\n",
       "      <td>4.387</td>\n",
       "      <td>0.066</td>\n",
       "      <td>-0.123</td>\n",
       "      <td>1.092</td>\n",
       "      <td>0.181</td>\n",
       "      <td>-0.097</td>\n",
       "      <td>298.09543</td>\n",
       "      <td>44.737061</td>\n",
       "      <td>13.204</td>\n",
       "    </tr>\n",
       "    <tr>\n",
       "      <th>4099</th>\n",
       "      <td>0</td>\n",
       "      <td>0</td>\n",
       "      <td>0</td>\n",
       "      <td>0</td>\n",
       "      <td>24.754385</td>\n",
       "      <td>1.365000e-04</td>\n",
       "      <td>-1.365000e-04</td>\n",
       "      <td>140.207320</td>\n",
       "      <td>0.004460</td>\n",
       "      <td>-0.004460</td>\n",
       "      <td>...</td>\n",
       "      <td>-144</td>\n",
       "      <td>4.519</td>\n",
       "      <td>0.078</td>\n",
       "      <td>-0.052</td>\n",
       "      <td>0.804</td>\n",
       "      <td>0.056</td>\n",
       "      <td>-0.076</td>\n",
       "      <td>295.73535</td>\n",
       "      <td>42.576248</td>\n",
       "      <td>15.514</td>\n",
       "    </tr>\n",
       "    <tr>\n",
       "      <th>5460</th>\n",
       "      <td>0</td>\n",
       "      <td>0</td>\n",
       "      <td>0</td>\n",
       "      <td>0</td>\n",
       "      <td>1.057336</td>\n",
       "      <td>1.230000e-07</td>\n",
       "      <td>-1.230000e-07</td>\n",
       "      <td>131.792007</td>\n",
       "      <td>0.000096</td>\n",
       "      <td>-0.000096</td>\n",
       "      <td>...</td>\n",
       "      <td>-140</td>\n",
       "      <td>4.594</td>\n",
       "      <td>0.054</td>\n",
       "      <td>-0.027</td>\n",
       "      <td>0.683</td>\n",
       "      <td>0.054</td>\n",
       "      <td>-0.060</td>\n",
       "      <td>292.18417</td>\n",
       "      <td>49.310040</td>\n",
       "      <td>15.414</td>\n",
       "    </tr>\n",
       "    <tr>\n",
       "      <th>1091</th>\n",
       "      <td>0</td>\n",
       "      <td>0</td>\n",
       "      <td>0</td>\n",
       "      <td>0</td>\n",
       "      <td>201.118319</td>\n",
       "      <td>1.461000e-03</td>\n",
       "      <td>-1.461000e-03</td>\n",
       "      <td>187.569860</td>\n",
       "      <td>0.005290</td>\n",
       "      <td>-0.005290</td>\n",
       "      <td>...</td>\n",
       "      <td>-112</td>\n",
       "      <td>4.447</td>\n",
       "      <td>0.072</td>\n",
       "      <td>-0.108</td>\n",
       "      <td>0.954</td>\n",
       "      <td>0.135</td>\n",
       "      <td>-0.083</td>\n",
       "      <td>283.11377</td>\n",
       "      <td>48.131390</td>\n",
       "      <td>13.328</td>\n",
       "    </tr>\n",
       "    <tr>\n",
       "      <th>5999</th>\n",
       "      <td>0</td>\n",
       "      <td>0</td>\n",
       "      <td>0</td>\n",
       "      <td>0</td>\n",
       "      <td>91.649983</td>\n",
       "      <td>3.181000e-03</td>\n",
       "      <td>-3.181000e-03</td>\n",
       "      <td>175.715600</td>\n",
       "      <td>0.028600</td>\n",
       "      <td>-0.028600</td>\n",
       "      <td>...</td>\n",
       "      <td>-233</td>\n",
       "      <td>4.145</td>\n",
       "      <td>0.164</td>\n",
       "      <td>-0.164</td>\n",
       "      <td>1.608</td>\n",
       "      <td>0.905</td>\n",
       "      <td>-0.383</td>\n",
       "      <td>294.93198</td>\n",
       "      <td>39.812420</td>\n",
       "      <td>12.964</td>\n",
       "    </tr>\n",
       "  </tbody>\n",
       "</table>\n",
       "<p>5 rows × 40 columns</p>\n",
       "</div>"
      ],
      "text/plain": [
       "      koi_fpflag_nt  koi_fpflag_ss  koi_fpflag_co  koi_fpflag_ec  koi_period  \\\n",
       "3563              0              0              0              0   10.548413   \n",
       "4099              0              0              0              0   24.754385   \n",
       "5460              0              0              0              0    1.057336   \n",
       "1091              0              0              0              0  201.118319   \n",
       "5999              0              0              0              0   91.649983   \n",
       "\n",
       "      koi_period_err1  koi_period_err2  koi_time0bk  koi_time0bk_err1  \\\n",
       "3563     5.470000e-05    -5.470000e-05   139.064020          0.004110   \n",
       "4099     1.365000e-04    -1.365000e-04   140.207320          0.004460   \n",
       "5460     1.230000e-07    -1.230000e-07   131.792007          0.000096   \n",
       "1091     1.461000e-03    -1.461000e-03   187.569860          0.005290   \n",
       "5999     3.181000e-03    -3.181000e-03   175.715600          0.028600   \n",
       "\n",
       "      koi_time0bk_err2  ...  koi_steff_err2  koi_slogg  koi_slogg_err1  \\\n",
       "3563         -0.004110  ...            -133      4.387           0.066   \n",
       "4099         -0.004460  ...            -144      4.519           0.078   \n",
       "5460         -0.000096  ...            -140      4.594           0.054   \n",
       "1091         -0.005290  ...            -112      4.447           0.072   \n",
       "5999         -0.028600  ...            -233      4.145           0.164   \n",
       "\n",
       "      koi_slogg_err2  koi_srad  koi_srad_err1  koi_srad_err2         ra  \\\n",
       "3563          -0.123     1.092          0.181         -0.097  298.09543   \n",
       "4099          -0.052     0.804          0.056         -0.076  295.73535   \n",
       "5460          -0.027     0.683          0.054         -0.060  292.18417   \n",
       "1091          -0.108     0.954          0.135         -0.083  283.11377   \n",
       "5999          -0.164     1.608          0.905         -0.383  294.93198   \n",
       "\n",
       "            dec  koi_kepmag  \n",
       "3563  44.737061      13.204  \n",
       "4099  42.576248      15.514  \n",
       "5460  49.310040      15.414  \n",
       "1091  48.131390      13.328  \n",
       "5999  39.812420      12.964  \n",
       "\n",
       "[5 rows x 40 columns]"
      ]
     },
     "execution_count": 8,
     "metadata": {},
     "output_type": "execute_result"
    }
   ],
   "source": [
    "X_train.head()"
   ]
  },
  {
   "cell_type": "markdown",
   "metadata": {},
   "source": [
    "# Pre-processing\n",
    "\n",
    "Scale the data using the MinMaxScaler and perform some feature selection"
   ]
  },
  {
   "cell_type": "code",
   "execution_count": 9,
   "metadata": {},
   "outputs": [],
   "source": [
    "# Scale your dataX_scaler = MinMaxScaler().fit(X_train)\n",
    "\n",
    "X_scaler = MinMaxScaler().fit(X_train)\n",
    "X_train_scaled = X_scaler.transform(X_train)\n",
    "X_test_scaled = X_scaler.transform(X_test)"
   ]
  },
  {
   "cell_type": "code",
   "execution_count": 10,
   "metadata": {},
   "outputs": [
    {
     "name": "stderr",
     "output_type": "stream",
     "text": [
      "C:\\Users\\Owner\\Anaconda3\\envs\\PythonData\\lib\\site-packages\\sklearn\\preprocessing\\_label.py:235: DataConversionWarning: A column-vector y was passed when a 1d array was expected. Please change the shape of y to (n_samples, ), for example using ravel().\n",
      "  y = column_or_1d(y, warn=True)\n",
      "C:\\Users\\Owner\\Anaconda3\\envs\\PythonData\\lib\\site-packages\\sklearn\\preprocessing\\_label.py:268: DataConversionWarning: A column-vector y was passed when a 1d array was expected. Please change the shape of y to (n_samples, ), for example using ravel().\n",
      "  y = column_or_1d(y, warn=True)\n"
     ]
    }
   ],
   "source": [
    "# Step 1: Label-encode data set\n",
    "label_encoder = LabelEncoder()\n",
    "label_encoder.fit(y_train)\n",
    "encoded_y_train = label_encoder.transform(y_train)\n",
    "encoded_y_test = label_encoder.transform(y_test)"
   ]
  },
  {
   "cell_type": "code",
   "execution_count": 11,
   "metadata": {},
   "outputs": [],
   "source": [
    "#This second step is needed for Neural Networks\n",
    "\n",
    "# Step 2: Convert encoded labels to one-hot-encoding\n",
    "y_train_categorical = to_categorical(encoded_y_train)\n",
    "y_test_categorical = to_categorical(encoded_y_test)"
   ]
  },
  {
   "cell_type": "code",
   "execution_count": 12,
   "metadata": {},
   "outputs": [
    {
     "data": {
      "text/plain": [
       "(5243, 40)"
      ]
     },
     "execution_count": 12,
     "metadata": {},
     "output_type": "execute_result"
    }
   ],
   "source": [
    "X_train_scaled.shape"
   ]
  },
  {
   "cell_type": "code",
   "execution_count": 13,
   "metadata": {},
   "outputs": [
    {
     "data": {
      "text/plain": [
       "(5243, 3)"
      ]
     },
     "execution_count": 13,
     "metadata": {},
     "output_type": "execute_result"
    }
   ],
   "source": [
    "y_train_categorical.shape"
   ]
  },
  {
   "cell_type": "markdown",
   "metadata": {},
   "source": [
    "# Train the Model"
   ]
  },
  {
   "cell_type": "code",
   "execution_count": 14,
   "metadata": {},
   "outputs": [],
   "source": [
    "from sklearn.ensemble import RandomForestClassifier"
   ]
  },
  {
   "cell_type": "code",
   "execution_count": 15,
   "metadata": {},
   "outputs": [
    {
     "data": {
      "text/plain": [
       "1.0"
      ]
     },
     "execution_count": 15,
     "metadata": {},
     "output_type": "execute_result"
    }
   ],
   "source": [
    "# Create a random forest classifier\n",
    "rf = RandomForestClassifier(n_estimators=200)\n",
    "rf = rf.fit(X_train_scaled, y_train_categorical)\n",
    "rf.score(X_train_scaled, y_train_categorical)"
   ]
  },
  {
   "cell_type": "markdown",
   "metadata": {},
   "source": [
    "# Select your features (columns)"
   ]
  },
  {
   "cell_type": "code",
   "execution_count": 16,
   "metadata": {},
   "outputs": [
    {
     "data": {
      "text/plain": [
       "array([0.09701901, 0.07217655, 0.10262751, 0.03429868, 0.02277551,\n",
       "       0.01720791, 0.01691134, 0.01493029, 0.01990899, 0.02303424,\n",
       "       0.01907768, 0.0108973 , 0.010282  , 0.02422818, 0.03303724,\n",
       "       0.03717269, 0.0167953 , 0.01377822, 0.01404941, 0.04698934,\n",
       "       0.03469991, 0.03225739, 0.0179356 , 0.01444785, 0.02013188,\n",
       "       0.01120502, 0.05511499, 0.00336642, 0.00967991, 0.03251515,\n",
       "       0.02658867, 0.00921327, 0.00937347, 0.01017649, 0.00961145,\n",
       "       0.01132503, 0.0089192 , 0.01296317, 0.01183834, 0.0114394 ])"
      ]
     },
     "execution_count": 16,
     "metadata": {},
     "output_type": "execute_result"
    }
   ],
   "source": [
    "# Random Forests in sklearn will automatically calculate feature importance\n",
    "importances = rf.feature_importances_\n",
    "importances"
   ]
  },
  {
   "cell_type": "code",
   "execution_count": 17,
   "metadata": {},
   "outputs": [
    {
     "data": {
      "text/plain": [
       "[(0.10262751111540107, 'koi_fpflag_co'),\n",
       " (0.0970190138061699, 'koi_fpflag_nt'),\n",
       " (0.07217655167220703, 'koi_fpflag_ss'),\n",
       " (0.055114989838667874, 'koi_model_snr'),\n",
       " (0.04698934199721453, 'koi_prad'),\n",
       " (0.03717269015831331, 'koi_duration_err2'),\n",
       " (0.03469991229615493, 'koi_prad_err1'),\n",
       " (0.03429868142110779, 'koi_fpflag_ec'),\n",
       " (0.03303723909095959, 'koi_duration_err1'),\n",
       " (0.032515152783652815, 'koi_steff_err1'),\n",
       " (0.03225739015612198, 'koi_prad_err2'),\n",
       " (0.026588669118642157, 'koi_steff_err2'),\n",
       " (0.02422818413012411, 'koi_duration'),\n",
       " (0.02303423690938316, 'koi_time0bk_err2'),\n",
       " (0.0227755141979685, 'koi_period'),\n",
       " (0.020131879742233995, 'koi_insol_err1'),\n",
       " (0.01990899298823764, 'koi_time0bk_err1'),\n",
       " (0.01907767729019163, 'koi_impact'),\n",
       " (0.017935596262034562, 'koi_teq'),\n",
       " (0.01720791295760106, 'koi_period_err1'),\n",
       " (0.01691134403241797, 'koi_period_err2'),\n",
       " (0.016795300391695057, 'koi_depth'),\n",
       " (0.014930287576070107, 'koi_time0bk'),\n",
       " (0.014447846836979918, 'koi_insol'),\n",
       " (0.014049405871014919, 'koi_depth_err2'),\n",
       " (0.013778218570932038, 'koi_depth_err1'),\n",
       " (0.012963169853356438, 'ra'),\n",
       " (0.011838336906106266, 'dec'),\n",
       " (0.011439403280615674, 'koi_kepmag'),\n",
       " (0.01132502626955882, 'koi_srad_err1'),\n",
       " (0.011205022966249409, 'koi_insol_err2'),\n",
       " (0.010897296883880166, 'koi_impact_err1'),\n",
       " (0.010281997670774397, 'koi_impact_err2'),\n",
       " (0.010176486980532766, 'koi_slogg_err2'),\n",
       " (0.009679913506840962, 'koi_steff'),\n",
       " (0.009611450523818484, 'koi_srad'),\n",
       " (0.00937347301693344, 'koi_slogg_err1'),\n",
       " (0.009213268660607545, 'koi_slogg'),\n",
       " (0.008919195418110227, 'koi_srad_err2'),\n",
       " (0.0033664168511178217, 'koi_tce_plnt_num')]"
      ]
     },
     "execution_count": 17,
     "metadata": {},
     "output_type": "execute_result"
    }
   ],
   "source": [
    "# We can sort the features by their importance\n",
    "feature_order = sorted(zip(rf.feature_importances_, X_train.columns), reverse=True)\n",
    "feature_order"
   ]
  },
  {
   "cell_type": "code",
   "execution_count": 18,
   "metadata": {},
   "outputs": [
    {
     "name": "stdout",
     "output_type": "stream",
     "text": [
      "0\n",
      "1\n",
      "2\n",
      "3\n",
      "4\n",
      "5\n",
      "6\n",
      "7\n",
      "8\n",
      "9\n"
     ]
    },
    {
     "data": {
      "text/plain": [
       "['koi_fpflag_co',\n",
       " 'koi_fpflag_nt',\n",
       " 'koi_fpflag_ss',\n",
       " 'koi_model_snr',\n",
       " 'koi_prad',\n",
       " 'koi_duration_err2',\n",
       " 'koi_prad_err1',\n",
       " 'koi_fpflag_ec',\n",
       " 'koi_duration_err1',\n",
       " 'koi_steff_err1']"
      ]
     },
     "execution_count": 18,
     "metadata": {},
     "output_type": "execute_result"
    }
   ],
   "source": [
    "top_ten_features= [] \n",
    "i = 0\n",
    "while i < 10:\n",
    "  print(i)\n",
    "  top_ten_features.append(feature_order[i][1])\n",
    "  i += 1\n",
    "\n",
    "top_ten_features"
   ]
  },
  {
   "cell_type": "markdown",
   "metadata": {},
   "source": [
    "# Revise Training Data Based on Best Features"
   ]
  },
  {
   "cell_type": "code",
   "execution_count": 19,
   "metadata": {},
   "outputs": [],
   "source": [
    "Top_Feature_X_train = X_train[top_ten_features]\n",
    "Top_Feature_X_test = X_test[top_ten_features]"
   ]
  },
  {
   "cell_type": "code",
   "execution_count": 20,
   "metadata": {},
   "outputs": [],
   "source": [
    "# Scale your dataX_scaler = MinMaxScaler().fit(X_train)\n",
    "\n",
    "Top_Feature_X_scaler = MinMaxScaler().fit(Top_Feature_X_train)"
   ]
  },
  {
   "cell_type": "code",
   "execution_count": 21,
   "metadata": {},
   "outputs": [],
   "source": [
    "Top_Feature_X_train_scaled = Top_Feature_X_scaler.transform(Top_Feature_X_train)\n",
    "Top_Feature_X_test_scaled = Top_Feature_X_scaler.transform(Top_Feature_X_test)"
   ]
  },
  {
   "cell_type": "markdown",
   "metadata": {},
   "source": [
    "# Retrain the Model"
   ]
  },
  {
   "cell_type": "code",
   "execution_count": 22,
   "metadata": {},
   "outputs": [
    {
     "data": {
      "text/plain": [
       "1.0"
      ]
     },
     "execution_count": 22,
     "metadata": {},
     "output_type": "execute_result"
    }
   ],
   "source": [
    "# Create a random forest classifier\n",
    "rf = RandomForestClassifier(n_estimators=200)\n",
    "rf = rf.fit(Top_Feature_X_train_scaled, y_train_categorical)\n",
    "rf.score(Top_Feature_X_train_scaled, y_train_categorical)"
   ]
  },
  {
   "cell_type": "code",
   "execution_count": 23,
   "metadata": {},
   "outputs": [],
   "source": [
    "model = rf"
   ]
  },
  {
   "cell_type": "code",
   "execution_count": 37,
   "metadata": {},
   "outputs": [
    {
     "name": "stdout",
     "output_type": "stream",
     "text": [
      "Training Data Score: 1.0\n"
     ]
    }
   ],
   "source": [
    "print(f\"Training Data Score: {model.score(Top_Feature_X_train_scaled, y_train_categorical)}\")"
   ]
  },
  {
   "cell_type": "code",
   "execution_count": 35,
   "metadata": {},
   "outputs": [
    {
     "name": "stdout",
     "output_type": "stream",
     "text": [
      "Testing Data Score: 0.897025171624714\n"
     ]
    }
   ],
   "source": [
    "print(f\"Testing Data Score: {model.score(Top_Feature_X_test_scaled, y_test_categorical)}\")"
   ]
  },
  {
   "cell_type": "markdown",
   "metadata": {},
   "source": [
    "# Hyperparameter Tuning\n",
    "\n",
    "Use `GridSearchCV` to tune the model's parameters"
   ]
  },
  {
   "cell_type": "code",
   "execution_count": 25,
   "metadata": {},
   "outputs": [],
   "source": [
    "# Create the GridSearchCV model\n",
    "\n",
    "# Create the GridSearch estimator along with a parameter object containing the values to adjust\n",
    "from sklearn.model_selection import GridSearchCV\n",
    "param_grid = { \n",
    "    'n_estimators': [200, 500],\n",
    "    'max_features': ['auto', 'sqrt', 'log2'],\n",
    "    'max_depth' : [4,5,6,7,8],\n",
    "    'criterion' :['gini', 'entropy']\n",
    "}\n",
    "grid = GridSearchCV(model, param_grid, verbose=3)"
   ]
  },
  {
   "cell_type": "code",
   "execution_count": 26,
   "metadata": {},
   "outputs": [
    {
     "name": "stdout",
     "output_type": "stream",
     "text": [
      "Fitting 5 folds for each of 60 candidates, totalling 300 fits\n",
      "[CV] criterion=gini, max_depth=4, max_features=auto, n_estimators=200 \n"
     ]
    },
    {
     "name": "stderr",
     "output_type": "stream",
     "text": [
      "[Parallel(n_jobs=1)]: Using backend SequentialBackend with 1 concurrent workers.\n"
     ]
    },
    {
     "name": "stdout",
     "output_type": "stream",
     "text": [
      "[CV]  criterion=gini, max_depth=4, max_features=auto, n_estimators=200, score=0.848, total=   1.1s\n",
      "[CV] criterion=gini, max_depth=4, max_features=auto, n_estimators=200 \n"
     ]
    },
    {
     "name": "stderr",
     "output_type": "stream",
     "text": [
      "[Parallel(n_jobs=1)]: Done   1 out of   1 | elapsed:    1.0s remaining:    0.0s\n"
     ]
    },
    {
     "name": "stdout",
     "output_type": "stream",
     "text": [
      "[CV]  criterion=gini, max_depth=4, max_features=auto, n_estimators=200, score=0.858, total=   1.2s\n",
      "[CV] criterion=gini, max_depth=4, max_features=auto, n_estimators=200 \n"
     ]
    },
    {
     "name": "stderr",
     "output_type": "stream",
     "text": [
      "[Parallel(n_jobs=1)]: Done   2 out of   2 | elapsed:    2.2s remaining:    0.0s\n"
     ]
    },
    {
     "name": "stdout",
     "output_type": "stream",
     "text": [
      "[CV]  criterion=gini, max_depth=4, max_features=auto, n_estimators=200, score=0.847, total=   1.1s\n",
      "[CV] criterion=gini, max_depth=4, max_features=auto, n_estimators=200 \n",
      "[CV]  criterion=gini, max_depth=4, max_features=auto, n_estimators=200, score=0.836, total=   1.1s\n",
      "[CV] criterion=gini, max_depth=4, max_features=auto, n_estimators=200 \n",
      "[CV]  criterion=gini, max_depth=4, max_features=auto, n_estimators=200, score=0.850, total=   1.1s\n",
      "[CV] criterion=gini, max_depth=4, max_features=auto, n_estimators=500 \n",
      "[CV]  criterion=gini, max_depth=4, max_features=auto, n_estimators=500, score=0.844, total=   2.7s\n",
      "[CV] criterion=gini, max_depth=4, max_features=auto, n_estimators=500 \n",
      "[CV]  criterion=gini, max_depth=4, max_features=auto, n_estimators=500, score=0.872, total=   2.7s\n",
      "[CV] criterion=gini, max_depth=4, max_features=auto, n_estimators=500 \n",
      "[CV]  criterion=gini, max_depth=4, max_features=auto, n_estimators=500, score=0.852, total=   2.7s\n",
      "[CV] criterion=gini, max_depth=4, max_features=auto, n_estimators=500 \n",
      "[CV]  criterion=gini, max_depth=4, max_features=auto, n_estimators=500, score=0.837, total=   2.7s\n",
      "[CV] criterion=gini, max_depth=4, max_features=auto, n_estimators=500 \n",
      "[CV]  criterion=gini, max_depth=4, max_features=auto, n_estimators=500, score=0.843, total=   2.7s\n",
      "[CV] criterion=gini, max_depth=4, max_features=sqrt, n_estimators=200 \n",
      "[CV]  criterion=gini, max_depth=4, max_features=sqrt, n_estimators=200, score=0.843, total=   1.1s\n",
      "[CV] criterion=gini, max_depth=4, max_features=sqrt, n_estimators=200 \n",
      "[CV]  criterion=gini, max_depth=4, max_features=sqrt, n_estimators=200, score=0.873, total=   1.1s\n",
      "[CV] criterion=gini, max_depth=4, max_features=sqrt, n_estimators=200 \n",
      "[CV]  criterion=gini, max_depth=4, max_features=sqrt, n_estimators=200, score=0.847, total=   1.1s\n",
      "[CV] criterion=gini, max_depth=4, max_features=sqrt, n_estimators=200 \n",
      "[CV]  criterion=gini, max_depth=4, max_features=sqrt, n_estimators=200, score=0.838, total=   1.1s\n",
      "[CV] criterion=gini, max_depth=4, max_features=sqrt, n_estimators=200 \n",
      "[CV]  criterion=gini, max_depth=4, max_features=sqrt, n_estimators=200, score=0.844, total=   1.1s\n",
      "[CV] criterion=gini, max_depth=4, max_features=sqrt, n_estimators=500 \n",
      "[CV]  criterion=gini, max_depth=4, max_features=sqrt, n_estimators=500, score=0.840, total=   2.7s\n",
      "[CV] criterion=gini, max_depth=4, max_features=sqrt, n_estimators=500 \n",
      "[CV]  criterion=gini, max_depth=4, max_features=sqrt, n_estimators=500, score=0.874, total=   2.7s\n",
      "[CV] criterion=gini, max_depth=4, max_features=sqrt, n_estimators=500 \n",
      "[CV]  criterion=gini, max_depth=4, max_features=sqrt, n_estimators=500, score=0.848, total=   2.7s\n",
      "[CV] criterion=gini, max_depth=4, max_features=sqrt, n_estimators=500 \n",
      "[CV]  criterion=gini, max_depth=4, max_features=sqrt, n_estimators=500, score=0.838, total=   2.7s\n",
      "[CV] criterion=gini, max_depth=4, max_features=sqrt, n_estimators=500 \n",
      "[CV]  criterion=gini, max_depth=4, max_features=sqrt, n_estimators=500, score=0.847, total=   2.7s\n",
      "[CV] criterion=gini, max_depth=4, max_features=log2, n_estimators=200 \n",
      "[CV]  criterion=gini, max_depth=4, max_features=log2, n_estimators=200, score=0.830, total=   1.0s\n",
      "[CV] criterion=gini, max_depth=4, max_features=log2, n_estimators=200 \n",
      "[CV]  criterion=gini, max_depth=4, max_features=log2, n_estimators=200, score=0.860, total=   1.0s\n",
      "[CV] criterion=gini, max_depth=4, max_features=log2, n_estimators=200 \n",
      "[CV]  criterion=gini, max_depth=4, max_features=log2, n_estimators=200, score=0.838, total=   1.0s\n",
      "[CV] criterion=gini, max_depth=4, max_features=log2, n_estimators=200 \n",
      "[CV]  criterion=gini, max_depth=4, max_features=log2, n_estimators=200, score=0.828, total=   0.9s\n",
      "[CV] criterion=gini, max_depth=4, max_features=log2, n_estimators=200 \n",
      "[CV]  criterion=gini, max_depth=4, max_features=log2, n_estimators=200, score=0.844, total=   1.0s\n",
      "[CV] criterion=gini, max_depth=4, max_features=log2, n_estimators=500 \n",
      "[CV]  criterion=gini, max_depth=4, max_features=log2, n_estimators=500, score=0.843, total=   2.5s\n",
      "[CV] criterion=gini, max_depth=4, max_features=log2, n_estimators=500 \n",
      "[CV]  criterion=gini, max_depth=4, max_features=log2, n_estimators=500, score=0.863, total=   2.4s\n",
      "[CV] criterion=gini, max_depth=4, max_features=log2, n_estimators=500 \n",
      "[CV]  criterion=gini, max_depth=4, max_features=log2, n_estimators=500, score=0.841, total=   2.4s\n",
      "[CV] criterion=gini, max_depth=4, max_features=log2, n_estimators=500 \n",
      "[CV]  criterion=gini, max_depth=4, max_features=log2, n_estimators=500, score=0.838, total=   2.6s\n",
      "[CV] criterion=gini, max_depth=4, max_features=log2, n_estimators=500 \n",
      "[CV]  criterion=gini, max_depth=4, max_features=log2, n_estimators=500, score=0.843, total=   2.5s\n",
      "[CV] criterion=gini, max_depth=5, max_features=auto, n_estimators=200 \n",
      "[CV]  criterion=gini, max_depth=5, max_features=auto, n_estimators=200, score=0.852, total=   1.3s\n",
      "[CV] criterion=gini, max_depth=5, max_features=auto, n_estimators=200 \n",
      "[CV]  criterion=gini, max_depth=5, max_features=auto, n_estimators=200, score=0.885, total=   1.4s\n",
      "[CV] criterion=gini, max_depth=5, max_features=auto, n_estimators=200 \n",
      "[CV]  criterion=gini, max_depth=5, max_features=auto, n_estimators=200, score=0.857, total=   1.3s\n",
      "[CV] criterion=gini, max_depth=5, max_features=auto, n_estimators=200 \n",
      "[CV]  criterion=gini, max_depth=5, max_features=auto, n_estimators=200, score=0.851, total=   1.3s\n",
      "[CV] criterion=gini, max_depth=5, max_features=auto, n_estimators=200 \n",
      "[CV]  criterion=gini, max_depth=5, max_features=auto, n_estimators=200, score=0.854, total=   1.3s\n",
      "[CV] criterion=gini, max_depth=5, max_features=auto, n_estimators=500 \n",
      "[CV]  criterion=gini, max_depth=5, max_features=auto, n_estimators=500, score=0.855, total=   3.3s\n",
      "[CV] criterion=gini, max_depth=5, max_features=auto, n_estimators=500 \n",
      "[CV]  criterion=gini, max_depth=5, max_features=auto, n_estimators=500, score=0.880, total=   3.3s\n",
      "[CV] criterion=gini, max_depth=5, max_features=auto, n_estimators=500 \n",
      "[CV]  criterion=gini, max_depth=5, max_features=auto, n_estimators=500, score=0.865, total=   3.3s\n",
      "[CV] criterion=gini, max_depth=5, max_features=auto, n_estimators=500 \n",
      "[CV]  criterion=gini, max_depth=5, max_features=auto, n_estimators=500, score=0.851, total=   3.3s\n",
      "[CV] criterion=gini, max_depth=5, max_features=auto, n_estimators=500 \n",
      "[CV]  criterion=gini, max_depth=5, max_features=auto, n_estimators=500, score=0.854, total=   3.3s\n",
      "[CV] criterion=gini, max_depth=5, max_features=sqrt, n_estimators=200 \n",
      "[CV]  criterion=gini, max_depth=5, max_features=sqrt, n_estimators=200, score=0.856, total=   1.3s\n",
      "[CV] criterion=gini, max_depth=5, max_features=sqrt, n_estimators=200 \n",
      "[CV]  criterion=gini, max_depth=5, max_features=sqrt, n_estimators=200, score=0.881, total=   1.3s\n",
      "[CV] criterion=gini, max_depth=5, max_features=sqrt, n_estimators=200 \n",
      "[CV]  criterion=gini, max_depth=5, max_features=sqrt, n_estimators=200, score=0.863, total=   1.3s\n",
      "[CV] criterion=gini, max_depth=5, max_features=sqrt, n_estimators=200 \n",
      "[CV]  criterion=gini, max_depth=5, max_features=sqrt, n_estimators=200, score=0.853, total=   1.3s\n",
      "[CV] criterion=gini, max_depth=5, max_features=sqrt, n_estimators=200 \n",
      "[CV]  criterion=gini, max_depth=5, max_features=sqrt, n_estimators=200, score=0.854, total=   1.3s\n",
      "[CV] criterion=gini, max_depth=5, max_features=sqrt, n_estimators=500 \n",
      "[CV]  criterion=gini, max_depth=5, max_features=sqrt, n_estimators=500, score=0.856, total=   3.1s\n",
      "[CV] criterion=gini, max_depth=5, max_features=sqrt, n_estimators=500 \n",
      "[CV]  criterion=gini, max_depth=5, max_features=sqrt, n_estimators=500, score=0.885, total=   3.1s\n",
      "[CV] criterion=gini, max_depth=5, max_features=sqrt, n_estimators=500 \n",
      "[CV]  criterion=gini, max_depth=5, max_features=sqrt, n_estimators=500, score=0.867, total=   3.1s\n",
      "[CV] criterion=gini, max_depth=5, max_features=sqrt, n_estimators=500 \n",
      "[CV]  criterion=gini, max_depth=5, max_features=sqrt, n_estimators=500, score=0.850, total=   3.2s\n",
      "[CV] criterion=gini, max_depth=5, max_features=sqrt, n_estimators=500 \n",
      "[CV]  criterion=gini, max_depth=5, max_features=sqrt, n_estimators=500, score=0.853, total=   3.1s\n",
      "[CV] criterion=gini, max_depth=5, max_features=log2, n_estimators=200 \n",
      "[CV]  criterion=gini, max_depth=5, max_features=log2, n_estimators=200, score=0.841, total=   1.1s\n",
      "[CV] criterion=gini, max_depth=5, max_features=log2, n_estimators=200 \n",
      "[CV]  criterion=gini, max_depth=5, max_features=log2, n_estimators=200, score=0.872, total=   1.1s\n",
      "[CV] criterion=gini, max_depth=5, max_features=log2, n_estimators=200 \n",
      "[CV]  criterion=gini, max_depth=5, max_features=log2, n_estimators=200, score=0.852, total=   1.1s\n",
      "[CV] criterion=gini, max_depth=5, max_features=log2, n_estimators=200 \n",
      "[CV]  criterion=gini, max_depth=5, max_features=log2, n_estimators=200, score=0.845, total=   1.1s\n",
      "[CV] criterion=gini, max_depth=5, max_features=log2, n_estimators=200 \n",
      "[CV]  criterion=gini, max_depth=5, max_features=log2, n_estimators=200, score=0.854, total=   1.1s\n",
      "[CV] criterion=gini, max_depth=5, max_features=log2, n_estimators=500 \n",
      "[CV]  criterion=gini, max_depth=5, max_features=log2, n_estimators=500, score=0.847, total=   2.7s\n",
      "[CV] criterion=gini, max_depth=5, max_features=log2, n_estimators=500 \n",
      "[CV]  criterion=gini, max_depth=5, max_features=log2, n_estimators=500, score=0.873, total=   2.7s\n",
      "[CV] criterion=gini, max_depth=5, max_features=log2, n_estimators=500 \n",
      "[CV]  criterion=gini, max_depth=5, max_features=log2, n_estimators=500, score=0.857, total=   2.8s\n",
      "[CV] criterion=gini, max_depth=5, max_features=log2, n_estimators=500 \n",
      "[CV]  criterion=gini, max_depth=5, max_features=log2, n_estimators=500, score=0.845, total=   2.7s\n",
      "[CV] criterion=gini, max_depth=5, max_features=log2, n_estimators=500 \n",
      "[CV]  criterion=gini, max_depth=5, max_features=log2, n_estimators=500, score=0.851, total=   2.7s\n",
      "[CV] criterion=gini, max_depth=6, max_features=auto, n_estimators=200 \n",
      "[CV]  criterion=gini, max_depth=6, max_features=auto, n_estimators=200, score=0.866, total=   1.4s\n",
      "[CV] criterion=gini, max_depth=6, max_features=auto, n_estimators=200 \n",
      "[CV]  criterion=gini, max_depth=6, max_features=auto, n_estimators=200, score=0.888, total=   1.4s\n",
      "[CV] criterion=gini, max_depth=6, max_features=auto, n_estimators=200 \n",
      "[CV]  criterion=gini, max_depth=6, max_features=auto, n_estimators=200, score=0.873, total=   1.4s\n",
      "[CV] criterion=gini, max_depth=6, max_features=auto, n_estimators=200 \n",
      "[CV]  criterion=gini, max_depth=6, max_features=auto, n_estimators=200, score=0.862, total=   1.4s\n",
      "[CV] criterion=gini, max_depth=6, max_features=auto, n_estimators=200 \n",
      "[CV]  criterion=gini, max_depth=6, max_features=auto, n_estimators=200, score=0.860, total=   1.4s\n",
      "[CV] criterion=gini, max_depth=6, max_features=auto, n_estimators=500 \n",
      "[CV]  criterion=gini, max_depth=6, max_features=auto, n_estimators=500, score=0.867, total=   3.5s\n",
      "[CV] criterion=gini, max_depth=6, max_features=auto, n_estimators=500 \n",
      "[CV]  criterion=gini, max_depth=6, max_features=auto, n_estimators=500, score=0.888, total=   3.5s\n",
      "[CV] criterion=gini, max_depth=6, max_features=auto, n_estimators=500 \n",
      "[CV]  criterion=gini, max_depth=6, max_features=auto, n_estimators=500, score=0.876, total=   3.6s\n",
      "[CV] criterion=gini, max_depth=6, max_features=auto, n_estimators=500 \n",
      "[CV]  criterion=gini, max_depth=6, max_features=auto, n_estimators=500, score=0.870, total=   3.5s\n",
      "[CV] criterion=gini, max_depth=6, max_features=auto, n_estimators=500 \n",
      "[CV]  criterion=gini, max_depth=6, max_features=auto, n_estimators=500, score=0.859, total=   3.6s\n",
      "[CV] criterion=gini, max_depth=6, max_features=sqrt, n_estimators=200 \n",
      "[CV]  criterion=gini, max_depth=6, max_features=sqrt, n_estimators=200, score=0.863, total=   1.4s\n",
      "[CV] criterion=gini, max_depth=6, max_features=sqrt, n_estimators=200 \n",
      "[CV]  criterion=gini, max_depth=6, max_features=sqrt, n_estimators=200, score=0.888, total=   1.4s\n",
      "[CV] criterion=gini, max_depth=6, max_features=sqrt, n_estimators=200 \n",
      "[CV]  criterion=gini, max_depth=6, max_features=sqrt, n_estimators=200, score=0.871, total=   1.4s\n",
      "[CV] criterion=gini, max_depth=6, max_features=sqrt, n_estimators=200 \n",
      "[CV]  criterion=gini, max_depth=6, max_features=sqrt, n_estimators=200, score=0.867, total=   1.4s\n",
      "[CV] criterion=gini, max_depth=6, max_features=sqrt, n_estimators=200 \n",
      "[CV]  criterion=gini, max_depth=6, max_features=sqrt, n_estimators=200, score=0.858, total=   1.4s\n",
      "[CV] criterion=gini, max_depth=6, max_features=sqrt, n_estimators=500 \n",
      "[CV]  criterion=gini, max_depth=6, max_features=sqrt, n_estimators=500, score=0.867, total=   3.5s\n",
      "[CV] criterion=gini, max_depth=6, max_features=sqrt, n_estimators=500 \n",
      "[CV]  criterion=gini, max_depth=6, max_features=sqrt, n_estimators=500, score=0.888, total=   3.5s\n",
      "[CV] criterion=gini, max_depth=6, max_features=sqrt, n_estimators=500 \n",
      "[CV]  criterion=gini, max_depth=6, max_features=sqrt, n_estimators=500, score=0.872, total=   3.5s\n",
      "[CV] criterion=gini, max_depth=6, max_features=sqrt, n_estimators=500 \n",
      "[CV]  criterion=gini, max_depth=6, max_features=sqrt, n_estimators=500, score=0.862, total=   3.5s\n",
      "[CV] criterion=gini, max_depth=6, max_features=sqrt, n_estimators=500 \n",
      "[CV]  criterion=gini, max_depth=6, max_features=sqrt, n_estimators=500, score=0.854, total=   3.5s\n",
      "[CV] criterion=gini, max_depth=6, max_features=log2, n_estimators=200 \n",
      "[CV]  criterion=gini, max_depth=6, max_features=log2, n_estimators=200, score=0.853, total=   1.2s\n",
      "[CV] criterion=gini, max_depth=6, max_features=log2, n_estimators=200 \n",
      "[CV]  criterion=gini, max_depth=6, max_features=log2, n_estimators=200, score=0.887, total=   1.3s\n",
      "[CV] criterion=gini, max_depth=6, max_features=log2, n_estimators=200 \n",
      "[CV]  criterion=gini, max_depth=6, max_features=log2, n_estimators=200, score=0.863, total=   1.3s\n",
      "[CV] criterion=gini, max_depth=6, max_features=log2, n_estimators=200 \n",
      "[CV]  criterion=gini, max_depth=6, max_features=log2, n_estimators=200, score=0.857, total=   1.2s\n",
      "[CV] criterion=gini, max_depth=6, max_features=log2, n_estimators=200 \n",
      "[CV]  criterion=gini, max_depth=6, max_features=log2, n_estimators=200, score=0.857, total=   1.2s\n",
      "[CV] criterion=gini, max_depth=6, max_features=log2, n_estimators=500 \n",
      "[CV]  criterion=gini, max_depth=6, max_features=log2, n_estimators=500, score=0.853, total=   3.1s\n",
      "[CV] criterion=gini, max_depth=6, max_features=log2, n_estimators=500 \n",
      "[CV]  criterion=gini, max_depth=6, max_features=log2, n_estimators=500, score=0.885, total=   3.1s\n",
      "[CV] criterion=gini, max_depth=6, max_features=log2, n_estimators=500 \n",
      "[CV]  criterion=gini, max_depth=6, max_features=log2, n_estimators=500, score=0.862, total=   3.1s\n",
      "[CV] criterion=gini, max_depth=6, max_features=log2, n_estimators=500 \n",
      "[CV]  criterion=gini, max_depth=6, max_features=log2, n_estimators=500, score=0.853, total=   3.1s\n",
      "[CV] criterion=gini, max_depth=6, max_features=log2, n_estimators=500 \n",
      "[CV]  criterion=gini, max_depth=6, max_features=log2, n_estimators=500, score=0.855, total=   3.1s\n",
      "[CV] criterion=gini, max_depth=7, max_features=auto, n_estimators=200 \n",
      "[CV]  criterion=gini, max_depth=7, max_features=auto, n_estimators=200, score=0.869, total=   1.5s\n",
      "[CV] criterion=gini, max_depth=7, max_features=auto, n_estimators=200 \n",
      "[CV]  criterion=gini, max_depth=7, max_features=auto, n_estimators=200, score=0.889, total=   1.6s\n",
      "[CV] criterion=gini, max_depth=7, max_features=auto, n_estimators=200 \n",
      "[CV]  criterion=gini, max_depth=7, max_features=auto, n_estimators=200, score=0.885, total=   1.5s\n",
      "[CV] criterion=gini, max_depth=7, max_features=auto, n_estimators=200 \n",
      "[CV]  criterion=gini, max_depth=7, max_features=auto, n_estimators=200, score=0.875, total=   1.6s\n",
      "[CV] criterion=gini, max_depth=7, max_features=auto, n_estimators=200 \n",
      "[CV]  criterion=gini, max_depth=7, max_features=auto, n_estimators=200, score=0.859, total=   1.5s\n",
      "[CV] criterion=gini, max_depth=7, max_features=auto, n_estimators=500 \n",
      "[CV]  criterion=gini, max_depth=7, max_features=auto, n_estimators=500, score=0.871, total=   3.9s\n",
      "[CV] criterion=gini, max_depth=7, max_features=auto, n_estimators=500 \n",
      "[CV]  criterion=gini, max_depth=7, max_features=auto, n_estimators=500, score=0.892, total=   3.9s\n",
      "[CV] criterion=gini, max_depth=7, max_features=auto, n_estimators=500 \n",
      "[CV]  criterion=gini, max_depth=7, max_features=auto, n_estimators=500, score=0.883, total=   3.9s\n",
      "[CV] criterion=gini, max_depth=7, max_features=auto, n_estimators=500 \n",
      "[CV]  criterion=gini, max_depth=7, max_features=auto, n_estimators=500, score=0.871, total=   3.9s\n",
      "[CV] criterion=gini, max_depth=7, max_features=auto, n_estimators=500 \n",
      "[CV]  criterion=gini, max_depth=7, max_features=auto, n_estimators=500, score=0.862, total=   3.9s\n",
      "[CV] criterion=gini, max_depth=7, max_features=sqrt, n_estimators=200 \n",
      "[CV]  criterion=gini, max_depth=7, max_features=sqrt, n_estimators=200, score=0.873, total=   1.6s\n",
      "[CV] criterion=gini, max_depth=7, max_features=sqrt, n_estimators=200 \n",
      "[CV]  criterion=gini, max_depth=7, max_features=sqrt, n_estimators=200, score=0.891, total=   1.6s\n",
      "[CV] criterion=gini, max_depth=7, max_features=sqrt, n_estimators=200 \n",
      "[CV]  criterion=gini, max_depth=7, max_features=sqrt, n_estimators=200, score=0.877, total=   1.6s\n",
      "[CV] criterion=gini, max_depth=7, max_features=sqrt, n_estimators=200 \n",
      "[CV]  criterion=gini, max_depth=7, max_features=sqrt, n_estimators=200, score=0.872, total=   1.5s\n",
      "[CV] criterion=gini, max_depth=7, max_features=sqrt, n_estimators=200 \n",
      "[CV]  criterion=gini, max_depth=7, max_features=sqrt, n_estimators=200, score=0.861, total=   1.6s\n",
      "[CV] criterion=gini, max_depth=7, max_features=sqrt, n_estimators=500 \n",
      "[CV]  criterion=gini, max_depth=7, max_features=sqrt, n_estimators=500, score=0.873, total=   3.9s\n",
      "[CV] criterion=gini, max_depth=7, max_features=sqrt, n_estimators=500 \n",
      "[CV]  criterion=gini, max_depth=7, max_features=sqrt, n_estimators=500, score=0.890, total=   3.9s\n",
      "[CV] criterion=gini, max_depth=7, max_features=sqrt, n_estimators=500 \n",
      "[CV]  criterion=gini, max_depth=7, max_features=sqrt, n_estimators=500, score=0.884, total=   3.8s\n",
      "[CV] criterion=gini, max_depth=7, max_features=sqrt, n_estimators=500 \n",
      "[CV]  criterion=gini, max_depth=7, max_features=sqrt, n_estimators=500, score=0.872, total=   3.9s\n",
      "[CV] criterion=gini, max_depth=7, max_features=sqrt, n_estimators=500 \n",
      "[CV]  criterion=gini, max_depth=7, max_features=sqrt, n_estimators=500, score=0.863, total=   3.9s\n",
      "[CV] criterion=gini, max_depth=7, max_features=log2, n_estimators=200 \n",
      "[CV]  criterion=gini, max_depth=7, max_features=log2, n_estimators=200, score=0.869, total=   1.4s\n",
      "[CV] criterion=gini, max_depth=7, max_features=log2, n_estimators=200 \n",
      "[CV]  criterion=gini, max_depth=7, max_features=log2, n_estimators=200, score=0.889, total=   1.4s\n",
      "[CV] criterion=gini, max_depth=7, max_features=log2, n_estimators=200 \n",
      "[CV]  criterion=gini, max_depth=7, max_features=log2, n_estimators=200, score=0.876, total=   1.4s\n",
      "[CV] criterion=gini, max_depth=7, max_features=log2, n_estimators=200 \n",
      "[CV]  criterion=gini, max_depth=7, max_features=log2, n_estimators=200, score=0.869, total=   1.4s\n",
      "[CV] criterion=gini, max_depth=7, max_features=log2, n_estimators=200 \n",
      "[CV]  criterion=gini, max_depth=7, max_features=log2, n_estimators=200, score=0.863, total=   1.4s\n",
      "[CV] criterion=gini, max_depth=7, max_features=log2, n_estimators=500 \n",
      "[CV]  criterion=gini, max_depth=7, max_features=log2, n_estimators=500, score=0.866, total=   3.4s\n",
      "[CV] criterion=gini, max_depth=7, max_features=log2, n_estimators=500 \n",
      "[CV]  criterion=gini, max_depth=7, max_features=log2, n_estimators=500, score=0.888, total=   3.4s\n",
      "[CV] criterion=gini, max_depth=7, max_features=log2, n_estimators=500 \n",
      "[CV]  criterion=gini, max_depth=7, max_features=log2, n_estimators=500, score=0.875, total=   3.4s\n",
      "[CV] criterion=gini, max_depth=7, max_features=log2, n_estimators=500 \n",
      "[CV]  criterion=gini, max_depth=7, max_features=log2, n_estimators=500, score=0.865, total=   3.4s\n",
      "[CV] criterion=gini, max_depth=7, max_features=log2, n_estimators=500 \n",
      "[CV]  criterion=gini, max_depth=7, max_features=log2, n_estimators=500, score=0.861, total=   3.4s\n",
      "[CV] criterion=gini, max_depth=8, max_features=auto, n_estimators=200 \n",
      "[CV]  criterion=gini, max_depth=8, max_features=auto, n_estimators=200, score=0.876, total=   1.7s\n",
      "[CV] criterion=gini, max_depth=8, max_features=auto, n_estimators=200 \n",
      "[CV]  criterion=gini, max_depth=8, max_features=auto, n_estimators=200, score=0.893, total=   1.7s\n",
      "[CV] criterion=gini, max_depth=8, max_features=auto, n_estimators=200 \n",
      "[CV]  criterion=gini, max_depth=8, max_features=auto, n_estimators=200, score=0.885, total=   1.7s\n",
      "[CV] criterion=gini, max_depth=8, max_features=auto, n_estimators=200 \n",
      "[CV]  criterion=gini, max_depth=8, max_features=auto, n_estimators=200, score=0.875, total=   1.7s\n",
      "[CV] criterion=gini, max_depth=8, max_features=auto, n_estimators=200 \n",
      "[CV]  criterion=gini, max_depth=8, max_features=auto, n_estimators=200, score=0.861, total=   1.7s\n",
      "[CV] criterion=gini, max_depth=8, max_features=auto, n_estimators=500 \n",
      "[CV]  criterion=gini, max_depth=8, max_features=auto, n_estimators=500, score=0.875, total=   4.2s\n",
      "[CV] criterion=gini, max_depth=8, max_features=auto, n_estimators=500 \n",
      "[CV]  criterion=gini, max_depth=8, max_features=auto, n_estimators=500, score=0.892, total=   4.4s\n",
      "[CV] criterion=gini, max_depth=8, max_features=auto, n_estimators=500 \n",
      "[CV]  criterion=gini, max_depth=8, max_features=auto, n_estimators=500, score=0.888, total=   4.3s\n",
      "[CV] criterion=gini, max_depth=8, max_features=auto, n_estimators=500 \n",
      "[CV]  criterion=gini, max_depth=8, max_features=auto, n_estimators=500, score=0.879, total=   4.4s\n",
      "[CV] criterion=gini, max_depth=8, max_features=auto, n_estimators=500 \n",
      "[CV]  criterion=gini, max_depth=8, max_features=auto, n_estimators=500, score=0.865, total=   4.8s\n",
      "[CV] criterion=gini, max_depth=8, max_features=sqrt, n_estimators=200 \n",
      "[CV]  criterion=gini, max_depth=8, max_features=sqrt, n_estimators=200, score=0.876, total=   1.9s\n",
      "[CV] criterion=gini, max_depth=8, max_features=sqrt, n_estimators=200 \n",
      "[CV]  criterion=gini, max_depth=8, max_features=sqrt, n_estimators=200, score=0.896, total=   1.9s\n",
      "[CV] criterion=gini, max_depth=8, max_features=sqrt, n_estimators=200 \n",
      "[CV]  criterion=gini, max_depth=8, max_features=sqrt, n_estimators=200, score=0.886, total=   1.8s\n",
      "[CV] criterion=gini, max_depth=8, max_features=sqrt, n_estimators=200 \n",
      "[CV]  criterion=gini, max_depth=8, max_features=sqrt, n_estimators=200, score=0.880, total=   1.7s\n",
      "[CV] criterion=gini, max_depth=8, max_features=sqrt, n_estimators=200 \n",
      "[CV]  criterion=gini, max_depth=8, max_features=sqrt, n_estimators=200, score=0.864, total=   1.8s\n",
      "[CV] criterion=gini, max_depth=8, max_features=sqrt, n_estimators=500 \n",
      "[CV]  criterion=gini, max_depth=8, max_features=sqrt, n_estimators=500, score=0.875, total=   4.4s\n",
      "[CV] criterion=gini, max_depth=8, max_features=sqrt, n_estimators=500 \n",
      "[CV]  criterion=gini, max_depth=8, max_features=sqrt, n_estimators=500, score=0.893, total=   4.3s\n",
      "[CV] criterion=gini, max_depth=8, max_features=sqrt, n_estimators=500 \n",
      "[CV]  criterion=gini, max_depth=8, max_features=sqrt, n_estimators=500, score=0.885, total=   4.3s\n",
      "[CV] criterion=gini, max_depth=8, max_features=sqrt, n_estimators=500 \n",
      "[CV]  criterion=gini, max_depth=8, max_features=sqrt, n_estimators=500, score=0.878, total=   4.3s\n",
      "[CV] criterion=gini, max_depth=8, max_features=sqrt, n_estimators=500 \n",
      "[CV]  criterion=gini, max_depth=8, max_features=sqrt, n_estimators=500, score=0.864, total=   4.2s\n",
      "[CV] criterion=gini, max_depth=8, max_features=log2, n_estimators=200 \n",
      "[CV]  criterion=gini, max_depth=8, max_features=log2, n_estimators=200, score=0.871, total=   1.5s\n",
      "[CV] criterion=gini, max_depth=8, max_features=log2, n_estimators=200 \n",
      "[CV]  criterion=gini, max_depth=8, max_features=log2, n_estimators=200, score=0.888, total=   1.5s\n",
      "[CV] criterion=gini, max_depth=8, max_features=log2, n_estimators=200 \n",
      "[CV]  criterion=gini, max_depth=8, max_features=log2, n_estimators=200, score=0.884, total=   1.5s\n",
      "[CV] criterion=gini, max_depth=8, max_features=log2, n_estimators=200 \n",
      "[CV]  criterion=gini, max_depth=8, max_features=log2, n_estimators=200, score=0.873, total=   1.5s\n",
      "[CV] criterion=gini, max_depth=8, max_features=log2, n_estimators=200 \n",
      "[CV]  criterion=gini, max_depth=8, max_features=log2, n_estimators=200, score=0.860, total=   1.5s\n",
      "[CV] criterion=gini, max_depth=8, max_features=log2, n_estimators=500 \n",
      "[CV]  criterion=gini, max_depth=8, max_features=log2, n_estimators=500, score=0.874, total=   3.8s\n",
      "[CV] criterion=gini, max_depth=8, max_features=log2, n_estimators=500 \n",
      "[CV]  criterion=gini, max_depth=8, max_features=log2, n_estimators=500, score=0.892, total=   3.7s\n",
      "[CV] criterion=gini, max_depth=8, max_features=log2, n_estimators=500 \n",
      "[CV]  criterion=gini, max_depth=8, max_features=log2, n_estimators=500, score=0.881, total=   3.7s\n",
      "[CV] criterion=gini, max_depth=8, max_features=log2, n_estimators=500 \n",
      "[CV]  criterion=gini, max_depth=8, max_features=log2, n_estimators=500, score=0.874, total=   3.8s\n",
      "[CV] criterion=gini, max_depth=8, max_features=log2, n_estimators=500 \n",
      "[CV]  criterion=gini, max_depth=8, max_features=log2, n_estimators=500, score=0.861, total=   3.7s\n",
      "[CV] criterion=entropy, max_depth=4, max_features=auto, n_estimators=200 \n",
      "[CV]  criterion=entropy, max_depth=4, max_features=auto, n_estimators=200, score=0.857, total=   1.6s\n",
      "[CV] criterion=entropy, max_depth=4, max_features=auto, n_estimators=200 \n",
      "[CV]  criterion=entropy, max_depth=4, max_features=auto, n_estimators=200, score=0.868, total=   1.7s\n",
      "[CV] criterion=entropy, max_depth=4, max_features=auto, n_estimators=200 \n",
      "[CV]  criterion=entropy, max_depth=4, max_features=auto, n_estimators=200, score=0.846, total=   1.7s\n",
      "[CV] criterion=entropy, max_depth=4, max_features=auto, n_estimators=200 \n",
      "[CV]  criterion=entropy, max_depth=4, max_features=auto, n_estimators=200, score=0.855, total=   1.7s\n",
      "[CV] criterion=entropy, max_depth=4, max_features=auto, n_estimators=200 \n",
      "[CV]  criterion=entropy, max_depth=4, max_features=auto, n_estimators=200, score=0.849, total=   1.7s\n",
      "[CV] criterion=entropy, max_depth=4, max_features=auto, n_estimators=500 \n",
      "[CV]  criterion=entropy, max_depth=4, max_features=auto, n_estimators=500, score=0.854, total=   4.2s\n",
      "[CV] criterion=entropy, max_depth=4, max_features=auto, n_estimators=500 \n",
      "[CV]  criterion=entropy, max_depth=4, max_features=auto, n_estimators=500, score=0.873, total=   4.2s\n",
      "[CV] criterion=entropy, max_depth=4, max_features=auto, n_estimators=500 \n",
      "[CV]  criterion=entropy, max_depth=4, max_features=auto, n_estimators=500, score=0.860, total=   4.1s\n",
      "[CV] criterion=entropy, max_depth=4, max_features=auto, n_estimators=500 \n",
      "[CV]  criterion=entropy, max_depth=4, max_features=auto, n_estimators=500, score=0.850, total=   4.1s\n",
      "[CV] criterion=entropy, max_depth=4, max_features=auto, n_estimators=500 \n",
      "[CV]  criterion=entropy, max_depth=4, max_features=auto, n_estimators=500, score=0.850, total=   4.1s\n",
      "[CV] criterion=entropy, max_depth=4, max_features=sqrt, n_estimators=200 \n",
      "[CV]  criterion=entropy, max_depth=4, max_features=sqrt, n_estimators=200, score=0.855, total=   1.7s\n",
      "[CV] criterion=entropy, max_depth=4, max_features=sqrt, n_estimators=200 \n",
      "[CV]  criterion=entropy, max_depth=4, max_features=sqrt, n_estimators=200, score=0.868, total=   1.7s\n",
      "[CV] criterion=entropy, max_depth=4, max_features=sqrt, n_estimators=200 \n",
      "[CV]  criterion=entropy, max_depth=4, max_features=sqrt, n_estimators=200, score=0.851, total=   1.7s\n",
      "[CV] criterion=entropy, max_depth=4, max_features=sqrt, n_estimators=200 \n",
      "[CV]  criterion=entropy, max_depth=4, max_features=sqrt, n_estimators=200, score=0.849, total=   1.6s\n",
      "[CV] criterion=entropy, max_depth=4, max_features=sqrt, n_estimators=200 \n",
      "[CV]  criterion=entropy, max_depth=4, max_features=sqrt, n_estimators=200, score=0.850, total=   1.7s\n",
      "[CV] criterion=entropy, max_depth=4, max_features=sqrt, n_estimators=500 \n",
      "[CV]  criterion=entropy, max_depth=4, max_features=sqrt, n_estimators=500, score=0.858, total=   4.2s\n",
      "[CV] criterion=entropy, max_depth=4, max_features=sqrt, n_estimators=500 \n",
      "[CV]  criterion=entropy, max_depth=4, max_features=sqrt, n_estimators=500, score=0.872, total=   4.2s\n",
      "[CV] criterion=entropy, max_depth=4, max_features=sqrt, n_estimators=500 \n",
      "[CV]  criterion=entropy, max_depth=4, max_features=sqrt, n_estimators=500, score=0.860, total=   4.2s\n",
      "[CV] criterion=entropy, max_depth=4, max_features=sqrt, n_estimators=500 \n",
      "[CV]  criterion=entropy, max_depth=4, max_features=sqrt, n_estimators=500, score=0.846, total=   4.1s\n",
      "[CV] criterion=entropy, max_depth=4, max_features=sqrt, n_estimators=500 \n",
      "[CV]  criterion=entropy, max_depth=4, max_features=sqrt, n_estimators=500, score=0.849, total=   4.2s\n",
      "[CV] criterion=entropy, max_depth=4, max_features=log2, n_estimators=200 \n",
      "[CV]  criterion=entropy, max_depth=4, max_features=log2, n_estimators=200, score=0.847, total=   1.4s\n",
      "[CV] criterion=entropy, max_depth=4, max_features=log2, n_estimators=200 \n",
      "[CV]  criterion=entropy, max_depth=4, max_features=log2, n_estimators=200, score=0.863, total=   1.5s\n",
      "[CV] criterion=entropy, max_depth=4, max_features=log2, n_estimators=200 \n",
      "[CV]  criterion=entropy, max_depth=4, max_features=log2, n_estimators=200, score=0.851, total=   1.4s\n",
      "[CV] criterion=entropy, max_depth=4, max_features=log2, n_estimators=200 \n",
      "[CV]  criterion=entropy, max_depth=4, max_features=log2, n_estimators=200, score=0.840, total=   1.4s\n",
      "[CV] criterion=entropy, max_depth=4, max_features=log2, n_estimators=200 \n",
      "[CV]  criterion=entropy, max_depth=4, max_features=log2, n_estimators=200, score=0.846, total=   1.4s\n",
      "[CV] criterion=entropy, max_depth=4, max_features=log2, n_estimators=500 \n",
      "[CV]  criterion=entropy, max_depth=4, max_features=log2, n_estimators=500, score=0.845, total=   3.6s\n",
      "[CV] criterion=entropy, max_depth=4, max_features=log2, n_estimators=500 \n",
      "[CV]  criterion=entropy, max_depth=4, max_features=log2, n_estimators=500, score=0.860, total=   3.6s\n",
      "[CV] criterion=entropy, max_depth=4, max_features=log2, n_estimators=500 \n",
      "[CV]  criterion=entropy, max_depth=4, max_features=log2, n_estimators=500, score=0.847, total=   3.6s\n",
      "[CV] criterion=entropy, max_depth=4, max_features=log2, n_estimators=500 \n",
      "[CV]  criterion=entropy, max_depth=4, max_features=log2, n_estimators=500, score=0.838, total=   3.6s\n",
      "[CV] criterion=entropy, max_depth=4, max_features=log2, n_estimators=500 \n",
      "[CV]  criterion=entropy, max_depth=4, max_features=log2, n_estimators=500, score=0.844, total=   3.7s\n",
      "[CV] criterion=entropy, max_depth=5, max_features=auto, n_estimators=200 \n",
      "[CV]  criterion=entropy, max_depth=5, max_features=auto, n_estimators=200, score=0.860, total=   2.0s\n",
      "[CV] criterion=entropy, max_depth=5, max_features=auto, n_estimators=200 \n",
      "[CV]  criterion=entropy, max_depth=5, max_features=auto, n_estimators=200, score=0.879, total=   2.0s\n",
      "[CV] criterion=entropy, max_depth=5, max_features=auto, n_estimators=200 \n",
      "[CV]  criterion=entropy, max_depth=5, max_features=auto, n_estimators=200, score=0.864, total=   1.9s\n",
      "[CV] criterion=entropy, max_depth=5, max_features=auto, n_estimators=200 \n",
      "[CV]  criterion=entropy, max_depth=5, max_features=auto, n_estimators=200, score=0.855, total=   1.9s\n",
      "[CV] criterion=entropy, max_depth=5, max_features=auto, n_estimators=200 \n",
      "[CV]  criterion=entropy, max_depth=5, max_features=auto, n_estimators=200, score=0.854, total=   2.1s\n",
      "[CV] criterion=entropy, max_depth=5, max_features=auto, n_estimators=500 \n",
      "[CV]  criterion=entropy, max_depth=5, max_features=auto, n_estimators=500, score=0.860, total=   4.9s\n",
      "[CV] criterion=entropy, max_depth=5, max_features=auto, n_estimators=500 \n",
      "[CV]  criterion=entropy, max_depth=5, max_features=auto, n_estimators=500, score=0.879, total=   5.1s\n",
      "[CV] criterion=entropy, max_depth=5, max_features=auto, n_estimators=500 \n",
      "[CV]  criterion=entropy, max_depth=5, max_features=auto, n_estimators=500, score=0.864, total=   5.1s\n",
      "[CV] criterion=entropy, max_depth=5, max_features=auto, n_estimators=500 \n",
      "[CV]  criterion=entropy, max_depth=5, max_features=auto, n_estimators=500, score=0.863, total=   5.1s\n",
      "[CV] criterion=entropy, max_depth=5, max_features=auto, n_estimators=500 \n",
      "[CV]  criterion=entropy, max_depth=5, max_features=auto, n_estimators=500, score=0.853, total=   4.9s\n",
      "[CV] criterion=entropy, max_depth=5, max_features=sqrt, n_estimators=200 \n",
      "[CV]  criterion=entropy, max_depth=5, max_features=sqrt, n_estimators=200, score=0.861, total=   2.0s\n",
      "[CV] criterion=entropy, max_depth=5, max_features=sqrt, n_estimators=200 \n",
      "[CV]  criterion=entropy, max_depth=5, max_features=sqrt, n_estimators=200, score=0.878, total=   2.0s\n",
      "[CV] criterion=entropy, max_depth=5, max_features=sqrt, n_estimators=200 \n",
      "[CV]  criterion=entropy, max_depth=5, max_features=sqrt, n_estimators=200, score=0.861, total=   2.0s\n",
      "[CV] criterion=entropy, max_depth=5, max_features=sqrt, n_estimators=200 \n",
      "[CV]  criterion=entropy, max_depth=5, max_features=sqrt, n_estimators=200, score=0.857, total=   2.1s\n",
      "[CV] criterion=entropy, max_depth=5, max_features=sqrt, n_estimators=200 \n",
      "[CV]  criterion=entropy, max_depth=5, max_features=sqrt, n_estimators=200, score=0.855, total=   2.0s\n",
      "[CV] criterion=entropy, max_depth=5, max_features=sqrt, n_estimators=500 \n",
      "[CV]  criterion=entropy, max_depth=5, max_features=sqrt, n_estimators=500, score=0.866, total=   5.0s\n",
      "[CV] criterion=entropy, max_depth=5, max_features=sqrt, n_estimators=500 \n",
      "[CV]  criterion=entropy, max_depth=5, max_features=sqrt, n_estimators=500, score=0.877, total=   5.0s\n",
      "[CV] criterion=entropy, max_depth=5, max_features=sqrt, n_estimators=500 \n",
      "[CV]  criterion=entropy, max_depth=5, max_features=sqrt, n_estimators=500, score=0.862, total=   5.0s\n",
      "[CV] criterion=entropy, max_depth=5, max_features=sqrt, n_estimators=500 \n",
      "[CV]  criterion=entropy, max_depth=5, max_features=sqrt, n_estimators=500, score=0.857, total=   4.9s\n",
      "[CV] criterion=entropy, max_depth=5, max_features=sqrt, n_estimators=500 \n",
      "[CV]  criterion=entropy, max_depth=5, max_features=sqrt, n_estimators=500, score=0.855, total=   4.9s\n",
      "[CV] criterion=entropy, max_depth=5, max_features=log2, n_estimators=200 \n",
      "[CV]  criterion=entropy, max_depth=5, max_features=log2, n_estimators=200, score=0.857, total=   1.8s\n",
      "[CV] criterion=entropy, max_depth=5, max_features=log2, n_estimators=200 \n",
      "[CV]  criterion=entropy, max_depth=5, max_features=log2, n_estimators=200, score=0.871, total=   1.7s\n",
      "[CV] criterion=entropy, max_depth=5, max_features=log2, n_estimators=200 \n",
      "[CV]  criterion=entropy, max_depth=5, max_features=log2, n_estimators=200, score=0.855, total=   1.8s\n",
      "[CV] criterion=entropy, max_depth=5, max_features=log2, n_estimators=200 \n",
      "[CV]  criterion=entropy, max_depth=5, max_features=log2, n_estimators=200, score=0.849, total=   1.8s\n",
      "[CV] criterion=entropy, max_depth=5, max_features=log2, n_estimators=200 \n",
      "[CV]  criterion=entropy, max_depth=5, max_features=log2, n_estimators=200, score=0.851, total=   1.7s\n",
      "[CV] criterion=entropy, max_depth=5, max_features=log2, n_estimators=500 \n",
      "[CV]  criterion=entropy, max_depth=5, max_features=log2, n_estimators=500, score=0.858, total=   4.2s\n",
      "[CV] criterion=entropy, max_depth=5, max_features=log2, n_estimators=500 \n",
      "[CV]  criterion=entropy, max_depth=5, max_features=log2, n_estimators=500, score=0.874, total=   4.3s\n",
      "[CV] criterion=entropy, max_depth=5, max_features=log2, n_estimators=500 \n",
      "[CV]  criterion=entropy, max_depth=5, max_features=log2, n_estimators=500, score=0.859, total=   4.4s\n",
      "[CV] criterion=entropy, max_depth=5, max_features=log2, n_estimators=500 \n",
      "[CV]  criterion=entropy, max_depth=5, max_features=log2, n_estimators=500, score=0.842, total=   4.3s\n",
      "[CV] criterion=entropy, max_depth=5, max_features=log2, n_estimators=500 \n",
      "[CV]  criterion=entropy, max_depth=5, max_features=log2, n_estimators=500, score=0.851, total=   4.3s\n",
      "[CV] criterion=entropy, max_depth=6, max_features=auto, n_estimators=200 \n",
      "[CV]  criterion=entropy, max_depth=6, max_features=auto, n_estimators=200, score=0.865, total=   2.3s\n",
      "[CV] criterion=entropy, max_depth=6, max_features=auto, n_estimators=200 \n",
      "[CV]  criterion=entropy, max_depth=6, max_features=auto, n_estimators=200, score=0.888, total=   2.3s\n",
      "[CV] criterion=entropy, max_depth=6, max_features=auto, n_estimators=200 \n",
      "[CV]  criterion=entropy, max_depth=6, max_features=auto, n_estimators=200, score=0.871, total=   2.2s\n",
      "[CV] criterion=entropy, max_depth=6, max_features=auto, n_estimators=200 \n",
      "[CV]  criterion=entropy, max_depth=6, max_features=auto, n_estimators=200, score=0.864, total=   2.3s\n",
      "[CV] criterion=entropy, max_depth=6, max_features=auto, n_estimators=200 \n",
      "[CV]  criterion=entropy, max_depth=6, max_features=auto, n_estimators=200, score=0.861, total=   2.4s\n",
      "[CV] criterion=entropy, max_depth=6, max_features=auto, n_estimators=500 \n",
      "[CV]  criterion=entropy, max_depth=6, max_features=auto, n_estimators=500, score=0.870, total=   5.7s\n",
      "[CV] criterion=entropy, max_depth=6, max_features=auto, n_estimators=500 \n",
      "[CV]  criterion=entropy, max_depth=6, max_features=auto, n_estimators=500, score=0.887, total=   5.8s\n",
      "[CV] criterion=entropy, max_depth=6, max_features=auto, n_estimators=500 \n",
      "[CV]  criterion=entropy, max_depth=6, max_features=auto, n_estimators=500, score=0.876, total=   6.0s\n",
      "[CV] criterion=entropy, max_depth=6, max_features=auto, n_estimators=500 \n",
      "[CV]  criterion=entropy, max_depth=6, max_features=auto, n_estimators=500, score=0.866, total=   6.7s\n",
      "[CV] criterion=entropy, max_depth=6, max_features=auto, n_estimators=500 \n",
      "[CV]  criterion=entropy, max_depth=6, max_features=auto, n_estimators=500, score=0.860, total=   6.3s\n",
      "[CV] criterion=entropy, max_depth=6, max_features=sqrt, n_estimators=200 \n",
      "[CV]  criterion=entropy, max_depth=6, max_features=sqrt, n_estimators=200, score=0.870, total=   2.4s\n",
      "[CV] criterion=entropy, max_depth=6, max_features=sqrt, n_estimators=200 \n",
      "[CV]  criterion=entropy, max_depth=6, max_features=sqrt, n_estimators=200, score=0.888, total=   2.4s\n",
      "[CV] criterion=entropy, max_depth=6, max_features=sqrt, n_estimators=200 \n",
      "[CV]  criterion=entropy, max_depth=6, max_features=sqrt, n_estimators=200, score=0.878, total=   2.4s\n",
      "[CV] criterion=entropy, max_depth=6, max_features=sqrt, n_estimators=200 \n",
      "[CV]  criterion=entropy, max_depth=6, max_features=sqrt, n_estimators=200, score=0.860, total=   2.3s\n",
      "[CV] criterion=entropy, max_depth=6, max_features=sqrt, n_estimators=200 \n",
      "[CV]  criterion=entropy, max_depth=6, max_features=sqrt, n_estimators=200, score=0.859, total=   2.3s\n",
      "[CV] criterion=entropy, max_depth=6, max_features=sqrt, n_estimators=500 \n",
      "[CV]  criterion=entropy, max_depth=6, max_features=sqrt, n_estimators=500, score=0.870, total=   5.7s\n",
      "[CV] criterion=entropy, max_depth=6, max_features=sqrt, n_estimators=500 \n",
      "[CV]  criterion=entropy, max_depth=6, max_features=sqrt, n_estimators=500, score=0.888, total=   6.0s\n",
      "[CV] criterion=entropy, max_depth=6, max_features=sqrt, n_estimators=500 \n",
      "[CV]  criterion=entropy, max_depth=6, max_features=sqrt, n_estimators=500, score=0.872, total=   6.0s\n",
      "[CV] criterion=entropy, max_depth=6, max_features=sqrt, n_estimators=500 \n",
      "[CV]  criterion=entropy, max_depth=6, max_features=sqrt, n_estimators=500, score=0.871, total=   6.5s\n",
      "[CV] criterion=entropy, max_depth=6, max_features=sqrt, n_estimators=500 \n",
      "[CV]  criterion=entropy, max_depth=6, max_features=sqrt, n_estimators=500, score=0.863, total=   5.7s\n",
      "[CV] criterion=entropy, max_depth=6, max_features=log2, n_estimators=200 \n",
      "[CV]  criterion=entropy, max_depth=6, max_features=log2, n_estimators=200, score=0.854, total=   2.0s\n",
      "[CV] criterion=entropy, max_depth=6, max_features=log2, n_estimators=200 \n",
      "[CV]  criterion=entropy, max_depth=6, max_features=log2, n_estimators=200, score=0.883, total=   1.9s\n",
      "[CV] criterion=entropy, max_depth=6, max_features=log2, n_estimators=200 \n",
      "[CV]  criterion=entropy, max_depth=6, max_features=log2, n_estimators=200, score=0.865, total=   2.0s\n",
      "[CV] criterion=entropy, max_depth=6, max_features=log2, n_estimators=200 \n",
      "[CV]  criterion=entropy, max_depth=6, max_features=log2, n_estimators=200, score=0.860, total=   1.9s\n",
      "[CV] criterion=entropy, max_depth=6, max_features=log2, n_estimators=200 \n",
      "[CV]  criterion=entropy, max_depth=6, max_features=log2, n_estimators=200, score=0.859, total=   2.0s\n",
      "[CV] criterion=entropy, max_depth=6, max_features=log2, n_estimators=500 \n",
      "[CV]  criterion=entropy, max_depth=6, max_features=log2, n_estimators=500, score=0.863, total=   4.9s\n",
      "[CV] criterion=entropy, max_depth=6, max_features=log2, n_estimators=500 \n",
      "[CV]  criterion=entropy, max_depth=6, max_features=log2, n_estimators=500, score=0.880, total=   4.9s\n",
      "[CV] criterion=entropy, max_depth=6, max_features=log2, n_estimators=500 \n",
      "[CV]  criterion=entropy, max_depth=6, max_features=log2, n_estimators=500, score=0.867, total=   5.1s\n",
      "[CV] criterion=entropy, max_depth=6, max_features=log2, n_estimators=500 \n",
      "[CV]  criterion=entropy, max_depth=6, max_features=log2, n_estimators=500, score=0.860, total=   4.9s\n",
      "[CV] criterion=entropy, max_depth=6, max_features=log2, n_estimators=500 \n",
      "[CV]  criterion=entropy, max_depth=6, max_features=log2, n_estimators=500, score=0.856, total=   4.9s\n",
      "[CV] criterion=entropy, max_depth=7, max_features=auto, n_estimators=200 \n",
      "[CV]  criterion=entropy, max_depth=7, max_features=auto, n_estimators=200, score=0.872, total=   2.5s\n",
      "[CV] criterion=entropy, max_depth=7, max_features=auto, n_estimators=200 \n",
      "[CV]  criterion=entropy, max_depth=7, max_features=auto, n_estimators=200, score=0.887, total=   2.5s\n",
      "[CV] criterion=entropy, max_depth=7, max_features=auto, n_estimators=200 \n",
      "[CV]  criterion=entropy, max_depth=7, max_features=auto, n_estimators=200, score=0.886, total=   2.5s\n",
      "[CV] criterion=entropy, max_depth=7, max_features=auto, n_estimators=200 \n",
      "[CV]  criterion=entropy, max_depth=7, max_features=auto, n_estimators=200, score=0.876, total=   2.5s\n",
      "[CV] criterion=entropy, max_depth=7, max_features=auto, n_estimators=200 \n",
      "[CV]  criterion=entropy, max_depth=7, max_features=auto, n_estimators=200, score=0.861, total=   2.6s\n",
      "[CV] criterion=entropy, max_depth=7, max_features=auto, n_estimators=500 \n",
      "[CV]  criterion=entropy, max_depth=7, max_features=auto, n_estimators=500, score=0.869, total=   6.2s\n",
      "[CV] criterion=entropy, max_depth=7, max_features=auto, n_estimators=500 \n",
      "[CV]  criterion=entropy, max_depth=7, max_features=auto, n_estimators=500, score=0.892, total=   6.5s\n",
      "[CV] criterion=entropy, max_depth=7, max_features=auto, n_estimators=500 \n",
      "[CV]  criterion=entropy, max_depth=7, max_features=auto, n_estimators=500, score=0.885, total=   6.9s\n",
      "[CV] criterion=entropy, max_depth=7, max_features=auto, n_estimators=500 \n",
      "[CV]  criterion=entropy, max_depth=7, max_features=auto, n_estimators=500, score=0.876, total=   7.4s\n",
      "[CV] criterion=entropy, max_depth=7, max_features=auto, n_estimators=500 \n",
      "[CV]  criterion=entropy, max_depth=7, max_features=auto, n_estimators=500, score=0.865, total=   6.8s\n",
      "[CV] criterion=entropy, max_depth=7, max_features=sqrt, n_estimators=200 \n",
      "[CV]  criterion=entropy, max_depth=7, max_features=sqrt, n_estimators=200, score=0.871, total=   2.6s\n",
      "[CV] criterion=entropy, max_depth=7, max_features=sqrt, n_estimators=200 \n",
      "[CV]  criterion=entropy, max_depth=7, max_features=sqrt, n_estimators=200, score=0.887, total=   2.7s\n",
      "[CV] criterion=entropy, max_depth=7, max_features=sqrt, n_estimators=200 \n",
      "[CV]  criterion=entropy, max_depth=7, max_features=sqrt, n_estimators=200, score=0.886, total=   2.6s\n",
      "[CV] criterion=entropy, max_depth=7, max_features=sqrt, n_estimators=200 \n",
      "[CV]  criterion=entropy, max_depth=7, max_features=sqrt, n_estimators=200, score=0.874, total=   2.7s\n",
      "[CV] criterion=entropy, max_depth=7, max_features=sqrt, n_estimators=200 \n",
      "[CV]  criterion=entropy, max_depth=7, max_features=sqrt, n_estimators=200, score=0.866, total=   2.5s\n",
      "[CV] criterion=entropy, max_depth=7, max_features=sqrt, n_estimators=500 \n",
      "[CV]  criterion=entropy, max_depth=7, max_features=sqrt, n_estimators=500, score=0.873, total=   6.6s\n",
      "[CV] criterion=entropy, max_depth=7, max_features=sqrt, n_estimators=500 \n",
      "[CV]  criterion=entropy, max_depth=7, max_features=sqrt, n_estimators=500, score=0.891, total=   6.6s\n",
      "[CV] criterion=entropy, max_depth=7, max_features=sqrt, n_estimators=500 \n",
      "[CV]  criterion=entropy, max_depth=7, max_features=sqrt, n_estimators=500, score=0.885, total=   6.4s\n",
      "[CV] criterion=entropy, max_depth=7, max_features=sqrt, n_estimators=500 \n",
      "[CV]  criterion=entropy, max_depth=7, max_features=sqrt, n_estimators=500, score=0.877, total=   6.3s\n",
      "[CV] criterion=entropy, max_depth=7, max_features=sqrt, n_estimators=500 \n",
      "[CV]  criterion=entropy, max_depth=7, max_features=sqrt, n_estimators=500, score=0.865, total=   6.6s\n",
      "[CV] criterion=entropy, max_depth=7, max_features=log2, n_estimators=200 \n",
      "[CV]  criterion=entropy, max_depth=7, max_features=log2, n_estimators=200, score=0.870, total=   2.2s\n",
      "[CV] criterion=entropy, max_depth=7, max_features=log2, n_estimators=200 \n",
      "[CV]  criterion=entropy, max_depth=7, max_features=log2, n_estimators=200, score=0.889, total=   2.2s\n",
      "[CV] criterion=entropy, max_depth=7, max_features=log2, n_estimators=200 \n",
      "[CV]  criterion=entropy, max_depth=7, max_features=log2, n_estimators=200, score=0.882, total=   2.2s\n",
      "[CV] criterion=entropy, max_depth=7, max_features=log2, n_estimators=200 \n",
      "[CV]  criterion=entropy, max_depth=7, max_features=log2, n_estimators=200, score=0.868, total=   2.2s\n",
      "[CV] criterion=entropy, max_depth=7, max_features=log2, n_estimators=200 \n",
      "[CV]  criterion=entropy, max_depth=7, max_features=log2, n_estimators=200, score=0.860, total=   2.3s\n",
      "[CV] criterion=entropy, max_depth=7, max_features=log2, n_estimators=500 \n",
      "[CV]  criterion=entropy, max_depth=7, max_features=log2, n_estimators=500, score=0.868, total=   5.4s\n",
      "[CV] criterion=entropy, max_depth=7, max_features=log2, n_estimators=500 \n",
      "[CV]  criterion=entropy, max_depth=7, max_features=log2, n_estimators=500, score=0.888, total=   5.4s\n",
      "[CV] criterion=entropy, max_depth=7, max_features=log2, n_estimators=500 \n",
      "[CV]  criterion=entropy, max_depth=7, max_features=log2, n_estimators=500, score=0.883, total=   5.5s\n",
      "[CV] criterion=entropy, max_depth=7, max_features=log2, n_estimators=500 \n",
      "[CV]  criterion=entropy, max_depth=7, max_features=log2, n_estimators=500, score=0.866, total=   5.6s\n",
      "[CV] criterion=entropy, max_depth=7, max_features=log2, n_estimators=500 \n",
      "[CV]  criterion=entropy, max_depth=7, max_features=log2, n_estimators=500, score=0.856, total=   5.4s\n",
      "[CV] criterion=entropy, max_depth=8, max_features=auto, n_estimators=200 \n",
      "[CV]  criterion=entropy, max_depth=8, max_features=auto, n_estimators=200, score=0.876, total=   2.8s\n",
      "[CV] criterion=entropy, max_depth=8, max_features=auto, n_estimators=200 \n",
      "[CV]  criterion=entropy, max_depth=8, max_features=auto, n_estimators=200, score=0.891, total=   2.8s\n",
      "[CV] criterion=entropy, max_depth=8, max_features=auto, n_estimators=200 \n",
      "[CV]  criterion=entropy, max_depth=8, max_features=auto, n_estimators=200, score=0.888, total=   2.7s\n",
      "[CV] criterion=entropy, max_depth=8, max_features=auto, n_estimators=200 \n",
      "[CV]  criterion=entropy, max_depth=8, max_features=auto, n_estimators=200, score=0.881, total=   2.7s\n",
      "[CV] criterion=entropy, max_depth=8, max_features=auto, n_estimators=200 \n",
      "[CV]  criterion=entropy, max_depth=8, max_features=auto, n_estimators=200, score=0.865, total=   2.7s\n",
      "[CV] criterion=entropy, max_depth=8, max_features=auto, n_estimators=500 \n",
      "[CV]  criterion=entropy, max_depth=8, max_features=auto, n_estimators=500, score=0.879, total=   6.8s\n",
      "[CV] criterion=entropy, max_depth=8, max_features=auto, n_estimators=500 \n",
      "[CV]  criterion=entropy, max_depth=8, max_features=auto, n_estimators=500, score=0.890, total=   7.0s\n",
      "[CV] criterion=entropy, max_depth=8, max_features=auto, n_estimators=500 \n",
      "[CV]  criterion=entropy, max_depth=8, max_features=auto, n_estimators=500, score=0.889, total=   6.9s\n",
      "[CV] criterion=entropy, max_depth=8, max_features=auto, n_estimators=500 \n",
      "[CV]  criterion=entropy, max_depth=8, max_features=auto, n_estimators=500, score=0.877, total=   6.9s\n",
      "[CV] criterion=entropy, max_depth=8, max_features=auto, n_estimators=500 \n",
      "[CV]  criterion=entropy, max_depth=8, max_features=auto, n_estimators=500, score=0.868, total=   6.8s\n",
      "[CV] criterion=entropy, max_depth=8, max_features=sqrt, n_estimators=200 \n",
      "[CV]  criterion=entropy, max_depth=8, max_features=sqrt, n_estimators=200, score=0.879, total=   2.7s\n",
      "[CV] criterion=entropy, max_depth=8, max_features=sqrt, n_estimators=200 \n",
      "[CV]  criterion=entropy, max_depth=8, max_features=sqrt, n_estimators=200, score=0.893, total=   2.8s\n",
      "[CV] criterion=entropy, max_depth=8, max_features=sqrt, n_estimators=200 \n",
      "[CV]  criterion=entropy, max_depth=8, max_features=sqrt, n_estimators=200, score=0.888, total=   2.8s\n",
      "[CV] criterion=entropy, max_depth=8, max_features=sqrt, n_estimators=200 \n",
      "[CV]  criterion=entropy, max_depth=8, max_features=sqrt, n_estimators=200, score=0.879, total=   2.8s\n",
      "[CV] criterion=entropy, max_depth=8, max_features=sqrt, n_estimators=200 \n",
      "[CV]  criterion=entropy, max_depth=8, max_features=sqrt, n_estimators=200, score=0.866, total=   2.7s\n",
      "[CV] criterion=entropy, max_depth=8, max_features=sqrt, n_estimators=500 \n",
      "[CV]  criterion=entropy, max_depth=8, max_features=sqrt, n_estimators=500, score=0.877, total=   6.9s\n",
      "[CV] criterion=entropy, max_depth=8, max_features=sqrt, n_estimators=500 \n",
      "[CV]  criterion=entropy, max_depth=8, max_features=sqrt, n_estimators=500, score=0.891, total=   7.0s\n",
      "[CV] criterion=entropy, max_depth=8, max_features=sqrt, n_estimators=500 \n",
      "[CV]  criterion=entropy, max_depth=8, max_features=sqrt, n_estimators=500, score=0.888, total=   6.9s\n",
      "[CV] criterion=entropy, max_depth=8, max_features=sqrt, n_estimators=500 \n",
      "[CV]  criterion=entropy, max_depth=8, max_features=sqrt, n_estimators=500, score=0.878, total=   7.2s\n",
      "[CV] criterion=entropy, max_depth=8, max_features=sqrt, n_estimators=500 \n",
      "[CV]  criterion=entropy, max_depth=8, max_features=sqrt, n_estimators=500, score=0.866, total=   7.2s\n",
      "[CV] criterion=entropy, max_depth=8, max_features=log2, n_estimators=200 \n",
      "[CV]  criterion=entropy, max_depth=8, max_features=log2, n_estimators=200, score=0.873, total=   2.4s\n",
      "[CV] criterion=entropy, max_depth=8, max_features=log2, n_estimators=200 \n",
      "[CV]  criterion=entropy, max_depth=8, max_features=log2, n_estimators=200, score=0.892, total=   2.4s\n",
      "[CV] criterion=entropy, max_depth=8, max_features=log2, n_estimators=200 \n",
      "[CV]  criterion=entropy, max_depth=8, max_features=log2, n_estimators=200, score=0.885, total=   2.5s\n",
      "[CV] criterion=entropy, max_depth=8, max_features=log2, n_estimators=200 \n",
      "[CV]  criterion=entropy, max_depth=8, max_features=log2, n_estimators=200, score=0.871, total=   2.5s\n",
      "[CV] criterion=entropy, max_depth=8, max_features=log2, n_estimators=200 \n",
      "[CV]  criterion=entropy, max_depth=8, max_features=log2, n_estimators=200, score=0.865, total=   2.4s\n",
      "[CV] criterion=entropy, max_depth=8, max_features=log2, n_estimators=500 \n",
      "[CV]  criterion=entropy, max_depth=8, max_features=log2, n_estimators=500, score=0.872, total=   5.9s\n",
      "[CV] criterion=entropy, max_depth=8, max_features=log2, n_estimators=500 \n",
      "[CV]  criterion=entropy, max_depth=8, max_features=log2, n_estimators=500, score=0.893, total=   6.2s\n",
      "[CV] criterion=entropy, max_depth=8, max_features=log2, n_estimators=500 \n",
      "[CV]  criterion=entropy, max_depth=8, max_features=log2, n_estimators=500, score=0.885, total=   5.9s\n",
      "[CV] criterion=entropy, max_depth=8, max_features=log2, n_estimators=500 \n",
      "[CV]  criterion=entropy, max_depth=8, max_features=log2, n_estimators=500, score=0.872, total=   6.0s\n",
      "[CV] criterion=entropy, max_depth=8, max_features=log2, n_estimators=500 \n",
      "[CV]  criterion=entropy, max_depth=8, max_features=log2, n_estimators=500, score=0.860, total=   6.1s\n"
     ]
    },
    {
     "name": "stderr",
     "output_type": "stream",
     "text": [
      "[Parallel(n_jobs=1)]: Done 300 out of 300 | elapsed: 15.5min finished\n"
     ]
    },
    {
     "data": {
      "text/plain": [
       "GridSearchCV(cv=None, error_score=nan,\n",
       "             estimator=RandomForestClassifier(bootstrap=True, ccp_alpha=0.0,\n",
       "                                              class_weight=None,\n",
       "                                              criterion='gini', max_depth=None,\n",
       "                                              max_features='auto',\n",
       "                                              max_leaf_nodes=None,\n",
       "                                              max_samples=None,\n",
       "                                              min_impurity_decrease=0.0,\n",
       "                                              min_impurity_split=None,\n",
       "                                              min_samples_leaf=1,\n",
       "                                              min_samples_split=2,\n",
       "                                              min_weight_fraction_leaf=0.0,\n",
       "                                              n_estimators=200, n_jobs=None,\n",
       "                                              oob_score=False,\n",
       "                                              random_state=None, verbose=0,\n",
       "                                              warm_start=False),\n",
       "             iid='deprecated', n_jobs=None,\n",
       "             param_grid={'criterion': ['gini', 'entropy'],\n",
       "                         'max_depth': [4, 5, 6, 7, 8],\n",
       "                         'max_features': ['auto', 'sqrt', 'log2'],\n",
       "                         'n_estimators': [200, 500]},\n",
       "             pre_dispatch='2*n_jobs', refit=True, return_train_score=False,\n",
       "             scoring=None, verbose=3)"
      ]
     },
     "execution_count": 26,
     "metadata": {},
     "output_type": "execute_result"
    }
   ],
   "source": [
    "# Train the model with GridSearch\n",
    "\n",
    "# Fit the model using the grid search estimator. \n",
    "# This will take the SVC model and try each combination of parameters\n",
    "grid.fit(X_train_scaled, encoded_y_train)"
   ]
  },
  {
   "cell_type": "code",
   "execution_count": 27,
   "metadata": {},
   "outputs": [
    {
     "name": "stdout",
     "output_type": "stream",
     "text": [
      "{'criterion': 'entropy', 'max_depth': 8, 'max_features': 'sqrt', 'n_estimators': 200}\n",
      "0.8811716356544581\n"
     ]
    }
   ],
   "source": [
    "print(grid.best_params_)\n",
    "print(grid.best_score_)"
   ]
  },
  {
   "cell_type": "markdown",
   "metadata": {},
   "source": [
    "# Save the Model"
   ]
  },
  {
   "cell_type": "code",
   "execution_count": 28,
   "metadata": {},
   "outputs": [
    {
     "data": {
      "text/plain": [
       "['RF_Model_1.sav']"
      ]
     },
     "execution_count": 28,
     "metadata": {},
     "output_type": "execute_result"
    }
   ],
   "source": [
    "# save your model by updating \"your_name\" with your name\n",
    "# and \"your_model\" with your model variable\n",
    "# be sure to turn this in to BCS\n",
    "# if joblib fails to import, try running the command to install in terminal/git-bash\n",
    "import joblib\n",
    "filename = 'RF_Model_1.sav'\n",
    "joblib.dump(model, filename)"
   ]
  },
  {
   "cell_type": "markdown",
   "metadata": {},
   "source": [
    "## Outcomes"
   ]
  },
  {
   "cell_type": "code",
   "execution_count": 29,
   "metadata": {},
   "outputs": [],
   "source": [
    "# Calculate classification report\n",
    "from sklearn.metrics import classification_report\n",
    "predictions = model.predict(Top_Feature_X_test_scaled)"
   ]
  },
  {
   "cell_type": "code",
   "execution_count": 30,
   "metadata": {},
   "outputs": [
    {
     "data": {
      "text/plain": [
       "(1748, 3)"
      ]
     },
     "execution_count": 30,
     "metadata": {},
     "output_type": "execute_result"
    }
   ],
   "source": [
    "predictions.shape"
   ]
  },
  {
   "cell_type": "code",
   "execution_count": 31,
   "metadata": {},
   "outputs": [
    {
     "data": {
      "text/plain": [
       "['CANDIDATE', 'CONFIRMED', 'FALSE POSITIVE']"
      ]
     },
     "execution_count": 31,
     "metadata": {},
     "output_type": "execute_result"
    }
   ],
   "source": [
    "target_names"
   ]
  },
  {
   "cell_type": "code",
   "execution_count": 32,
   "metadata": {},
   "outputs": [
    {
     "data": {
      "text/plain": [
       "(1748, 3)"
      ]
     },
     "execution_count": 32,
     "metadata": {},
     "output_type": "execute_result"
    }
   ],
   "source": [
    "y_test_categorical.shape"
   ]
  },
  {
   "cell_type": "code",
   "execution_count": 33,
   "metadata": {},
   "outputs": [
    {
     "name": "stdout",
     "output_type": "stream",
     "text": [
      "                precision    recall  f1-score   support\n",
      "\n",
      "     CANDIDATE       0.82      0.74      0.78       404\n",
      "     CONFIRMED       0.78      0.83      0.80       435\n",
      "FALSE POSITIVE       0.99      1.00      1.00       909\n",
      "\n",
      "     micro avg       0.90      0.90      0.90      1748\n",
      "     macro avg       0.86      0.86      0.86      1748\n",
      "  weighted avg       0.90      0.90      0.90      1748\n",
      "   samples avg       0.90      0.90      0.90      1748\n",
      "\n"
     ]
    },
    {
     "name": "stderr",
     "output_type": "stream",
     "text": [
      "C:\\Users\\Owner\\Anaconda3\\envs\\PythonData\\lib\\site-packages\\sklearn\\metrics\\_classification.py:1272: UndefinedMetricWarning: Precision and F-score are ill-defined and being set to 0.0 in samples with no predicted labels. Use `zero_division` parameter to control this behavior.\n",
      "  _warn_prf(average, modifier, msg_start, len(result))\n"
     ]
    }
   ],
   "source": [
    "print(classification_report(y_test_categorical, predictions, target_names=target_names))"
   ]
  }
 ],
 "metadata": {
  "kernel_info": {
   "name": "dev"
  },
  "kernelspec": {
   "display_name": "PythonData",
   "language": "python",
   "name": "pythondata"
  },
  "language_info": {
   "codemirror_mode": {
    "name": "ipython",
    "version": 3
   },
   "file_extension": ".py",
   "mimetype": "text/x-python",
   "name": "python",
   "nbconvert_exporter": "python",
   "pygments_lexer": "ipython3",
   "version": "3.8.2"
  },
  "nteract": {
   "version": "0.12.3"
  }
 },
 "nbformat": 4,
 "nbformat_minor": 4
}
